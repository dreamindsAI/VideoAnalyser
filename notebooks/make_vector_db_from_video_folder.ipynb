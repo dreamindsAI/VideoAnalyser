{
 "cells": [
  {
   "cell_type": "code",
   "execution_count": 18,
   "id": "69f5603c",
   "metadata": {},
   "outputs": [],
   "source": [
    "from pathlib import Path\n",
    "from enum import Enum\n",
    "\n",
    "class FileExtension(Enum):\n",
    "    MOV = \".mov\"\n",
    "    MP4 = \".mp4\"\n",
    "\n",
    "class DataDirectory:\n",
    "\n",
    "    def __init__(self, data_directory: str):\n",
    "        self.data_directory = Path(data_directory)\n",
    "\n",
    "    def get_video_folders(self) -> list[Path]:\n",
    "        self.video_folders = [folder for folder in self.data_directory.iterdir() if folder.is_dir()]\n",
    "        return self.video_folders\n",
    "    \n",
    "    def get_all_video_files(self, folder_name: str, file_extension: FileExtension = FileExtension.MOV) -> list[Path]:\n",
    "        folder_path = self.data_directory / folder_name\n",
    "        return [file for file in folder_path.iterdir() if file.is_file() and file.suffix == file_extension.value or file_extension.value.upper()]\n",
    "    \n",
    "    def get_video_file(self, folder_name: str, index: int=0, file_extension: FileExtension = FileExtension.MOV) -> Path:\n",
    "        video_files = self.get_all_video_files(folder_name, file_extension)\n",
    "        return video_files[index]\n"
   ]
  },
  {
   "cell_type": "code",
   "execution_count": 99,
   "id": "4b88cedc",
   "metadata": {},
   "outputs": [],
   "source": [
    "import ffmpeg\n",
    "from ffmpeg import Error as FFmpegError\n",
    "from geopy.geocoders import Nominatim\n",
    "from pydantic import BaseModel\n",
    "from typing import Annotated, Optional\n",
    "from datetime import datetime\n",
    "from pathlib import Path\n",
    "import json\n",
    "\n",
    "\n",
    "class VideoMetaData(BaseModel):\n",
    "    duration: Annotated[Optional[int], \"time in seconds\"] = None\n",
    "    created: Annotated[Optional[datetime], \"created date\"] = None\n",
    "    modified: Annotated[Optional[datetime], \"modified date\"] = None\n",
    "    location: Annotated[Optional[str], \"location details\"] = None\n",
    "    framerate: Annotated[Optional[float], \"frame rate\"] = None\n",
    "\n",
    "\n",
    "class VideoFile:\n",
    "\n",
    "    def __init__(self, filepath: Path) -> None:\n",
    "        self.filepath = filepath\n",
    "\n",
    "    def get_metadata(self) -> VideoMetaData:\n",
    "        try:\n",
    "            probe = ffmpeg.probe(str(self.filepath))\n",
    "        except FFmpegError as e:\n",
    "            print(f\"[ERROR] ffprobe failed on {self.filepath}\")\n",
    "            print(f\"stderr: {e.stderr.decode() if e.stderr else 'No stderr available'}\")\n",
    "            return VideoMetaData()\n",
    "        \n",
    "        # Initialize metadata fields\n",
    "        duration = None\n",
    "        created = None\n",
    "        modified = None\n",
    "        location = None\n",
    "        framerate = None\n",
    "\n",
    "        # Get video stream information\n",
    "        video_info = next((stream for stream in probe['streams'] if stream['codec_type'] == 'video'), None)\n",
    "        if video_info:\n",
    "            duration = int(float(video_info.get('duration', 0)))\n",
    "            avg_frame_rate = video_info.get('avg_frame_rate', '0/1')\n",
    "            if '/' in avg_frame_rate:\n",
    "                num, denom = map(float, avg_frame_rate.split('/'))\n",
    "                framerate = num / denom if denom != 0 else None\n",
    "\n",
    "        # Get format info\n",
    "        format_info = probe.get('format', {})\n",
    "        tags = format_info.get('tags', {})\n",
    "        if tags:\n",
    "            # created / modified\n",
    "            created = self.parse_datetime(tags.get('creation_time'))\n",
    "            modified = self.parse_datetime(tags.get('modification_time'))\n",
    "\n",
    "            # location\n",
    "            iso_location = tags.get('com.apple.quicktime.location.ISO6709')\n",
    "            if iso_location:\n",
    "                loc_data = self.parse_location_iso6709(iso_location)\n",
    "                location = self.get_place_name(loc_data['latitude'], loc_data['longitude'])\n",
    "        \n",
    "        return VideoMetaData(\n",
    "            duration=duration,\n",
    "            created=created,\n",
    "            modified=modified,\n",
    "            location=location,\n",
    "            framerate=framerate\n",
    "        )\n",
    "    \n",
    "    def write_metadata(self, output_dir: Path) -> None:\n",
    "        parent_folder = self.filepath.parent.name\n",
    "        folder_name = self.filepath.stem  # stem gives filename without extension\n",
    "        metadata_save_dir = output_dir / parent_folder / folder_name\n",
    "        metadata_save_dir.mkdir(parents=True, exist_ok=True)  # make sure directory exists\n",
    "        metadata_save_filepath = metadata_save_dir / \"metadata.json\"\n",
    "        metadata = self.get_metadata()\n",
    "        with open(metadata_save_filepath, \"w\") as file:\n",
    "            file.write(metadata.model_dump_json(indent=4)) \n",
    "        return None\n",
    "    \n",
    "    def write_frames(self, output_dir: Path):\n",
    "        parent_folder = self.filepath.parent.name\n",
    "        folder_name = self.filepath.stem\n",
    "        output_dir = output_dir / parent_folder / folder_name / Path(\"frames\")\n",
    "        output_dir.mkdir(parents=True, exist_ok=True)\n",
    "        (\n",
    "            ffmpeg\n",
    "            .input(str(self.filepath))\n",
    "            .output(str(output_dir / 'frame_%04d.png'), r=1)\n",
    "            .global_args('-loglevel', 'error')\n",
    "            .run()\n",
    "        )\n",
    "        return None\n",
    "\n",
    "    def parse_datetime(self, dt: Optional[str]) -> Optional[datetime]:\n",
    "        if not dt:\n",
    "            return None\n",
    "        try:\n",
    "            return datetime.fromisoformat(dt.replace('Z', '+00:00'))\n",
    "        except Exception:\n",
    "            return None\n",
    "\n",
    "    def parse_location_iso6709(self, location_iso: str) -> dict:\n",
    "        location_iso = location_iso.strip('/')\n",
    "        lat = float(location_iso[0:8])\n",
    "        lon = float(location_iso[8:17])\n",
    "        alt = float(location_iso[17:])\n",
    "        return {\"latitude\": lat, \"longitude\": lon, \"altitude_m\": alt}\n",
    "\n",
    "    def get_place_name(self, latitude: float, longitude: float) -> str:\n",
    "        geolocator = Nominatim(user_agent=\"geoapi\", timeout=10)\n",
    "        location = geolocator.reverse((latitude, longitude), exactly_one=True, language=\"en\")\n",
    "        return location.address if location else \"Unknown Location\"\n"
   ]
  },
  {
   "cell_type": "code",
   "execution_count": 100,
   "id": "42715b3b",
   "metadata": {},
   "outputs": [
    {
     "data": {
      "text/plain": [
       "57"
      ]
     },
     "execution_count": 100,
     "metadata": {},
     "output_type": "execute_result"
    }
   ],
   "source": [
    "DATA_DIRECTORY = \"../sample_data\"\n",
    "folder_slno = 2\n",
    "\n",
    "data_directory = DataDirectory(DATA_DIRECTORY)\n",
    "folder_name = data_directory.get_video_folders()[folder_slno].name\n",
    "video_files = data_directory.get_all_video_files(folder_name=folder_name)\n",
    "len(video_files)\n"
   ]
  },
  {
   "cell_type": "code",
   "execution_count": 101,
   "id": "eb4e396a",
   "metadata": {},
   "outputs": [
    {
     "data": {
      "application/vnd.jupyter.widget-view+json": {
       "model_id": "c505e437b09a4d64a5b7a5b4c7f283df",
       "version_major": 2,
       "version_minor": 0
      },
      "text/plain": [
       "  0%|          | 0/57 [00:00<?, ?it/s]"
      ]
     },
     "metadata": {},
     "output_type": "display_data"
    },
    {
     "name": "stdout",
     "output_type": "stream",
     "text": [
      "Skipping unsupported file: .DS_Store\n"
     ]
    }
   ],
   "source": [
    "from tqdm.notebook import tqdm\n",
    "\n",
    "for video_file_path in tqdm(video_files, total=len(video_files)):\n",
    "    if video_file_path.suffix.lower() not in {'.mp4', '.mov'}:\n",
    "        print(f\"Skipping unsupported file: {video_file_path.name}\")\n",
    "        continue\n",
    "    video_file = VideoFile(filepath=video_file_path)\n",
    "    video_file.get_metadata()\n",
    "    video_file.write_frames(output_dir=Path(\"./save_dir\"))\n",
    "    video_file.write_metadata(output_dir=Path(\"./save_dir\"))"
   ]
  },
  {
   "cell_type": "code",
   "execution_count": 102,
   "id": "cff6dcaf",
   "metadata": {},
   "outputs": [],
   "source": [
    "from PIL import Image\n",
    "from pathlib import Path\n",
    "\n",
    "def stitch_frames_horizontally(frames_dir: Path, output_path: Path, resize_height: int = None):\n",
    "    # Collect all frame image files (e.g., .png or .jpg)\n",
    "    frame_paths = sorted(frames_dir.glob(\"*.png\"))  # or use \"*.jpg\" if needed\n",
    "\n",
    "    if not frame_paths:\n",
    "        print(\"No frames found in the directory.\")\n",
    "        return None\n",
    "\n",
    "    # Open all images and optionally resize to a common height\n",
    "    images = []\n",
    "    for img_path in frame_paths:\n",
    "        img = Image.open(img_path)\n",
    "        if resize_height:\n",
    "            w, h = img.size\n",
    "            new_width = int((resize_height / h) * w)\n",
    "            img = img.resize((new_width, resize_height))\n",
    "        images.append(img)\n",
    "\n",
    "    # Compute total width and max height\n",
    "    total_width = sum(img.width for img in images)\n",
    "    max_height = max(img.height for img in images)\n",
    "\n",
    "    # Create a blank canvas\n",
    "    stitched_image = Image.new(\"RGB\", (total_width, max_height))\n",
    "\n",
    "    # Paste images side-by-side\n",
    "    x_offset = 0\n",
    "    for img in images:\n",
    "        stitched_image.paste(img, (x_offset, 0))\n",
    "        x_offset += img.width\n",
    "    \n",
    "    # Save the final stitched image\n",
    "    stitched_image.save(output_path)\n"
   ]
  },
  {
   "cell_type": "code",
   "execution_count": 104,
   "id": "7904e09f",
   "metadata": {},
   "outputs": [
    {
     "data": {
      "application/vnd.jupyter.widget-view+json": {
       "model_id": "66ff427ba79f43ada849441d664e36bc",
       "version_major": 2,
       "version_minor": 0
      },
      "text/plain": [
       "  0%|          | 0/56 [00:00<?, ?it/s]"
      ]
     },
     "metadata": {},
     "output_type": "display_data"
    }
   ],
   "source": [
    "all_video_frames = list(Path(\"save_dir/Thailand\").iterdir())\n",
    "\n",
    "for video_frame in tqdm(all_video_frames, total=len(all_video_frames)):\n",
    "\n",
    "    try:\n",
    "        frames_dir = list(video_frame.iterdir())[1] \n",
    "        out_dir = frames_dir.parent / \"stiched.png\"\n",
    "        stitch_frames_horizontally(frames_dir, out_dir)\n",
    "    except NotADirectoryError:\n",
    "        print(f\"{video_frame} not a valid dir\")\n",
    "\n"
   ]
  },
  {
   "cell_type": "code",
   "execution_count": 179,
   "id": "47aa5b54",
   "metadata": {},
   "outputs": [],
   "source": [
    "from groq import Groq\n",
    "import base64\n",
    "\n",
    "# Function to encode the image\n",
    "def encode_image(image_path):\n",
    "  with open(image_path, \"rb\") as image_file:\n",
    "    return base64.b64encode(image_file.read()).decode('utf-8')\n",
    "\n",
    "client = Groq()\n",
    "\n",
    "def get_system_prompt(location:str)->str:\n",
    "  return f\"\"\"\n",
    "        SYSTEM:\n",
    "        You are a **Video Description Specialist** with advanced multimodal understanding, capable of interpreting composite images and contextual metadata.\n",
    "        All mention whether the user is present in the video or not.\n",
    "\n",
    "        CAPABILITIES:\n",
    "\n",
    "        * Expert in visual storytelling, identifying scene elements, actions, and emotions from stitched-frame panoramas.\n",
    "        * Able to incorporate geolocation information to enrich descriptions with cultural, environmental, and historical context.\n",
    "\n",
    "        TASK:\n",
    "        Your objective is to generate a concise, vivid, and informative description of a video, based solely on:\n",
    "\n",
    "        1. A single horizontally-stitched image representing sequential frames of the video.\n",
    "        2. Location : {location}\n",
    "\n",
    "        Ensure you parse both fields correctly.\n",
    "\n",
    "        CONSTRAINTS & STYLE:\n",
    "\n",
    "        * **Length:** 50–75 words.\n",
    "        * **Tone:** Engaging and descriptive, suitable for social media captions or video platforms.\n",
    "        * **Structure:**\n",
    "\n",
    "        1. **Setting** (mention environment and time of day if inferable)\n",
    "        2. **Action** (describe the main movement or event)\n",
    "        3. **Mood/Context** (use location to add cultural or emotional nuance)\n",
    "        * **Do not** reference the input format or mention that you are an AI.\n",
    "\n",
    "        ERROR HANDLING:\n",
    "\n",
    "        * If the `stitched_image` is missing or unreadable, respond:\n",
    "        \"Error: Invalid or missing image input.\"\n",
    "        * If the `location` is provided but unrecognized, omit geographic details and proceed with a general description.\n",
    "\n",
    "        OUTPUT:\n",
    "        Return description as plain text\n",
    "\"\"\"\n",
    "\n",
    "def get_image_description(system_prompt: str, base64_image: bytes) -> str:\n",
    "    chat_completion = client.chat.completions.create(\n",
    "        messages=[\n",
    "            {\n",
    "                \"role\": \"user\",\n",
    "                \"content\": [\n",
    "                    {\"type\": \"text\", \"text\": system_prompt},\n",
    "                    {\n",
    "                        \"type\": \"image_url\",\n",
    "                        \"image_url\": {\n",
    "                            \"url\": f\"data:image/jpeg;base64,{base64_image}\",\n",
    "                        },\n",
    "                    },\n",
    "                ],\n",
    "            }\n",
    "        ],\n",
    "        model=\"meta-llama/llama-4-scout-17b-16e-instruct\",\n",
    "    )\n",
    "\n",
    "    return chat_completion.choices[0].message.content"
   ]
  },
  {
   "cell_type": "code",
   "execution_count": 180,
   "id": "53433240",
   "metadata": {},
   "outputs": [
    {
     "name": "stdout",
     "output_type": "stream",
     "text": [
      "Frame description written to save_dir/Thailand/IMG_8287/description.txt\n",
      "Frame description written to save_dir/Thailand/IMG_8041/description.txt\n",
      "Frame description written to save_dir/Thailand/IMG_8414/description.txt\n",
      "Frame description written to save_dir/Thailand/IMG_8289/description.txt\n",
      "Frame description written to save_dir/Thailand/IMG_8286/description.txt\n",
      "Frame description written to save_dir/Thailand/IMG_8556/description.txt\n",
      "Frame description written to save_dir/Thailand/IMG_8307/description.txt\n",
      "Frame description written to save_dir/Thailand/IMG_8593/description.txt\n",
      "Frame description written to save_dir/Thailand/IMG_8309/description.txt\n",
      "Frame description written to save_dir/Thailand/IMG_8336/description.txt\n",
      "Frame description written to save_dir/Thailand/IMG_8365/description.txt\n",
      "Frame description written to save_dir/Thailand/IMG_8308/description.txt\n",
      "Frame description written to save_dir/Thailand/IMG_8337/description.txt\n",
      "Frame description written to save_dir/Thailand/IMG_8561/description.txt\n",
      "Frame description written to save_dir/Thailand/IMG_8339/description.txt\n",
      "Frame description written to save_dir/Thailand/IMG_8557/description.txt\n",
      "Frame description written to save_dir/Thailand/IMG_8301/description.txt\n",
      "Frame description written to save_dir/Thailand/IMG_8341/description.txt\n",
      "Frame description written to save_dir/Thailand/IMG_8323/description.txt\n",
      "Frame description written to save_dir/Thailand/IMG_8312/description.txt\n",
      "Frame description written to save_dir/Thailand/IMG_8315/description.txt\n",
      "Frame description written to save_dir/Thailand/IMG_8349/description.txt\n",
      "Frame description written to save_dir/Thailand/IMG_8340/description.txt\n",
      "Frame description written to save_dir/Thailand/IMG_7955/description.txt\n",
      "Frame description written to save_dir/Thailand/IMG_8313/description.txt\n",
      "Frame description written to save_dir/Thailand/IMG_8295/description.txt\n",
      "Frame description written to save_dir/Thailand/IMG_7842/description.txt\n",
      "Frame description written to save_dir/Thailand/IMG_8052/description.txt\n",
      "Frame description written to save_dir/Thailand/IMG_8294/description.txt\n",
      "Frame description written to save_dir/Thailand/IMG_7836/description.txt\n",
      "Frame description written to save_dir/Thailand/IMG_8282/description.txt\n",
      "Frame description written to save_dir/Thailand/IMG_8357/description.txt\n",
      "Frame description written to save_dir/Thailand/IMG_8368/description.txt\n",
      "Frame description written to save_dir/Thailand/IMG_8304/description.txt\n",
      "Frame description written to save_dir/Thailand/IMG_8552/description.txt\n",
      "Frame description written to save_dir/Thailand/IMG_8555/description.txt\n",
      "Frame description written to save_dir/Thailand/IMG_8332/description.txt\n",
      "Frame description written to save_dir/Thailand/IMG_8538/description.txt\n",
      "Frame description written to save_dir/Thailand/IMG_7928/description.txt\n",
      "Frame description written to save_dir/Thailand/IMG_8356/description.txt\n",
      "Frame description written to save_dir/Thailand/IMG_8360/description.txt\n",
      "Frame description written to save_dir/Thailand/IMG_8367/description.txt\n",
      "Frame description written to save_dir/Thailand/IMG_8358/description.txt\n",
      "Frame description written to save_dir/Thailand/IMG_8565/description.txt\n",
      "Frame description written to save_dir/Thailand/IMG_8333/description.txt\n",
      "Frame description written to save_dir/Thailand/IMG_8327/description.txt\n",
      "Frame description written to save_dir/Thailand/IMG_8311/description.txt\n",
      "Frame description written to save_dir/Thailand/IMG_7932/description.txt\n",
      "Frame description written to save_dir/Thailand/IMG_7935/description.txt\n",
      "Frame description written to save_dir/Thailand/IMG_8310/description.txt\n",
      "Frame description written to save_dir/Thailand/IMG_8317/description.txt\n",
      "Frame description written to save_dir/Thailand/IMG_8328/description.txt\n",
      "Frame description written to save_dir/Thailand/IMG_7933/description.txt\n",
      "Frame description written to save_dir/Thailand/IMG_8291/description.txt\n",
      "Frame description written to save_dir/Thailand/IMG_8290/description.txt\n",
      "Frame description written to save_dir/Thailand/IMG_8299/description.txt\n"
     ]
    }
   ],
   "source": [
    "from pathlib import Path\n",
    "import json\n",
    "from PIL import Image\n",
    "import io\n",
    "\n",
    "file_directory = Path(\"./save_dir/Thailand\")\n",
    "\n",
    "for image_dir in file_directory.iterdir():\n",
    "    image_path = image_dir / \"stiched.png\"\n",
    "\n",
    "    img = Image.open(image_path)\n",
    "    img.thumbnail((2048, 2048), Image.LANCZOS)\n",
    "    buffered = io.BytesIO()\n",
    "    img.save(buffered, format=\"JPEG\")  # or \"PNG\" if your image is PNG\n",
    "    base64_image = base64.b64encode(buffered.getvalue()).decode(\"utf-8\")\n",
    "\n",
    "    with open(image_dir / \"metadata.json\", \"r\") as f:\n",
    "        metadata = json.load(f)\n",
    "\n",
    "    location = metadata['location']\n",
    "    system_prompt = get_system_prompt(location)\n",
    "    description = get_image_description(system_prompt, base64_image)\n",
    "    description_file_path = image_dir / f\"description.txt\"\n",
    "    with open(description_file_path, \"w\", encoding=\"utf-8\") as f:\n",
    "        f.write(description)\n",
    "    print(f\"Frame description written to {description_file_path}\")\n"
   ]
  },
  {
   "cell_type": "code",
   "execution_count": 181,
   "id": "4df1c606",
   "metadata": {},
   "outputs": [],
   "source": [
    "def stich_all_descriptions(header: str, dir: str | Path) -> str:\n",
    "    \"\"\"\n",
    "    We have description.txt for each video in the corresponding folder.\n",
    "    Need to get this files and group them together.\n",
    "\n",
    "    Args:\n",
    "    ---\n",
    "        header : A brief intro on what these videos are about.\n",
    "        dir : A folder contains the folders that has description.txt of each video.\n",
    "    \n",
    "    Returns:\n",
    "    ---\n",
    "        str : Full description stiched together into a single string.\n",
    "    \"\"\"\n",
    "\n",
    "    if isinstance(dir, str):\n",
    "        dir = Path(dir)\n",
    "    \n",
    "    if not dir.is_dir():\n",
    "        raise NotADirectoryError(f\"{dir} is not a folder.\")\n",
    "    \n",
    "    description = f\"{header}\\nThe descriptions of all the videos are given below:\\n\"\n",
    "\n",
    "    for i, video_folder in tqdm(enumerate(dir.iterdir()), total=len(list(dir.iterdir()))):\n",
    "\n",
    "        if not dir.is_dir():\n",
    "            print(f\"{video_folder} is not a folder.\")\n",
    "\n",
    "        video_description_file = video_folder / \"description.txt\"\n",
    "\n",
    "        with open(video_description_file, \"r\", encoding=\"utf-8\") as f:\n",
    "            video_description = f.read()\n",
    "        \n",
    "        video_name = video_folder.name\n",
    "\n",
    "        description += f\"\\n{i+1}. {video_name}.MOV : {video_description}\"\n",
    "    \n",
    "    return description\n",
    "        "
   ]
  },
  {
   "cell_type": "code",
   "execution_count": 182,
   "id": "22d7fd93",
   "metadata": {},
   "outputs": [
    {
     "data": {
      "application/vnd.jupyter.widget-view+json": {
       "model_id": "4c25b2aec22145438bb5a4972aa4ce39",
       "version_major": 2,
       "version_minor": 0
      },
      "text/plain": [
       "  0%|          | 0/56 [00:00<?, ?it/s]"
      ]
     },
     "metadata": {},
     "output_type": "display_data"
    }
   ],
   "source": [
    "description = stich_all_descriptions(header=\"These are descriptions of small video snippets which I shot on my Thailand trip. Create a script fot my reel\", dir=\"./save_dir/Thailand\")"
   ]
  },
  {
   "cell_type": "code",
   "execution_count": 183,
   "id": "efc8c534",
   "metadata": {},
   "outputs": [
    {
     "data": {
      "text/plain": [
       "'These are descriptions of small video snippets which I shot on my Thailand trip. Create a script fot my reel\\nThe descriptions of all the videos are given below:\\n\\n1. IMG_8287.MOV : In a bustling night market in Soa Luangwat, Phuket Province, Thailand, a woman expertly grills seafood. Sizzling skewers of shrimp and other delicacies line the grill. The vibrant setting, illuminated by bright lights, showcases a lively atmosphere. The woman is present in the video. Mouth-watering dishes are prepared with skill and care. The cultural richness of the local cuisine is on full display.\\n2. IMG_8041.MOV : \"Inside a kitchen, a vertical spit rotates stacked meat. Sizzling shawarma fills the air with savory aromas. The setting appears modern with stainless steel and a brick wall backdrop. The chef is absent. Located at Smile Dental Center, Pattaya Tai Road, Pattaya City, Thailand, this scene highlights culinary prep work.\"\\n3. IMG_8414.MOV : At Phuket Palace, a delicious breakfast unfolds. \\nSetting: A sunny morning in a dining area with dark tables.\\nAction: A person savors a meal of stir-fried vegetables, rice, beans, and bread.\\nMood/Context: The casual setting and local cuisine evoke a sense of warmth and hospitality, inviting you to start your day in Phuket with a taste of Thailand. The user is present in the video.\\n4. IMG_8289.MOV : At Malin Plaza in Phuket, Thailand, a vendor expertly prepares seafood. The setting appears to be lively, with people milling about. The main action shows the vendor handling food on a grill. The mood is casual, capturing a moment of culinary preparation in a bustling market atmosphere. The man in the video skillfully handles seafood.\\n5. IMG_8286.MOV : In a bustling market in Soa Luangwat, Phuket Province, Thailand, a chef stirs a savory dish. He expertly mixes ingredients in a large clay pot. The vibrant market atmosphere suggests a lively daytime setting. The chef\\'s focused actions convey his passion for cooking. The scene exudes a sense of local culinary tradition. The user is not present in the video.\\n6. IMG_8556.MOV : At Old Market in Bangkok, a bustling street food hub, a chef stirs a sizzling pot of eggs in a savory sauce. The vibrant scene unfolds during the day, with a crowd gathered in the background. The chef\\'s skilled movements showcase the dish\\'s preparation, capturing the sights and flavors of Thailand\\'s culinary culture. The user is not present in the video.\\n7. IMG_8307.MOV : On a bustling street food stall in Phuket, Thailand, a chef stirs a sizzling wok of Pad Thai. The vendor, clad in a brown apron and green gloves, expertly tosses noodles and sauce. The vibrant scene unfolds on Prachanukhro Road in Pa Tong, capturing the essence of local culinary delights. The user is not present in the video.\\n8. IMG_8593.MOV : At a bustling Bangkok café, a young woman savors a chocolate drink. She sits calmly, focused on her drink, as she stirs and takes a sip. The vibrant atmosphere of the café contrasts with her serene moment of enjoyment. The location, near the Din Daeng police station, hints at the lively urban life outside. The user is present in the video.\\n9. IMG_8309.MOV : At Malin Plaza Market in Phuket, Thailand, a chef prepares fried delights. \\nThe user is present in the video. \\n## Setting\\nIn a bustling market.\\n## Action\\nHe expertly serves fried food.\\n## Mood/Context\\nSavoring local flavors in Phuket\\'s vibrant market.\\n10. IMG_8336.MOV : Under the vibrant night sky in Soa Luangwat, Phuket, a lively gathering unfolds. A group of friends, likely tourists, sit around a table laden with food and drinks. They share laughter and conversations, savoring local cuisine. The bustling street behind them, lined with shops and scooters, adds to the energetic ambiance, capturing a carefree evening in a tropical setting. The user is present in the video.\\n11. IMG_8365.MOV : Under the vibrant night lights of Soa Luangwat in Phuket, Thailand, a lively gathering unfolds. The user is not present in the video. Patrons sit at checkered tables, savoring meals and conversation. The atmosphere is casual and communal, with diners enjoying local cuisine in a bustling outdoor setting, surrounded by the sights and sounds of a popular street food destination.\\n12. IMG_8308.MOV : At Malin Plaza Market in Phuket, a woman expertly grills meat skewers. She is shown placing cooked pieces onto a plate. The bustling market atmosphere is vibrant, with other vendors and shoppers in the background. The scene exudes a sense of local culinary culture, capturing the essence of a lively food market. The woman is present in the video.\\n13. IMG_8337.MOV : At Malin Plaza in Phuket, Thailand, a woman expertly grills seafood on skewers. \\n## Setting\\nThe scene is set in a bustling marketplace, likely during the day.\\n## Action\\nThe woman, wearing a mask and apron, attentively prepares food.\\n## Mood/Context\\nThe lively atmosphere reflects the vibrant culture of Phuket\\'s culinary scene, enticing passersby with street food aromas. The user is not present in the video.\\n14. IMG_8561.MOV : At Bangkok\\'s Cotton Jazz Club on Yaowarat Road, two women prepare sweet treats. They expertly string red balls onto skewers, surrounded by rows of similar snacks. The lively scene suggests a bustling marketplace, possibly at night, given the vibrant atmosphere. The women appear focused on their work. The location\\'s cultural significance and the club\\'s nightlife add to the scene\\'s energy. The user is not present in the video.\\n15. IMG_8339.MOV : At Phuket Ink Tattoo, a lively gathering unfolds under the evening sky. People of all ages savor local cuisine, sharing laughter and stories. The vibrant atmosphere, infused with the scent of street food and the hum of casual chatter, captures the essence of a carefree night out in Patong, Phuket Province, Thailand. The user is not present in the video.\\n16. IMG_8557.MOV : At a bustling street food stall in Old Market, Bangkok, a chef expertly grills lobster-like seafood. He skillfully prepares the dish, with the user observing in the background. The vibrant atmosphere and mouthwatering food evoke a sense of excitement. The chef\\'s expertise and attention to detail are on full display as he works. The scene is lively and appetizing.\\n17. IMG_8301.MOV : At Soi Dragon Market in Phuket, Thailand, a vendor expertly grills whole chickens on skewers. The user is not present in the video. As the vendor tends to the roasting poultry, the atmosphere is lively and appetizing. With colorful market stalls and signs advertising \"Baked Duck\" and \"Baked Chicken,\" the scene captures the vibrant essence of a bustling market, enticing passersby with the irresistible aroma of roasted meats.\\n18. IMG_8341.MOV : \"Under the vibrant night lights of Patong, Phuket, a group of friends and family gather around a table laden with Thai delights. As they enjoy their meal, the lively atmosphere is palpable. The user is not present in the video. Laughter and conversation flow freely in this casual outdoor dining setting, capturing the joy of sharing a meal together in a popular tourist spot.\"\\n19. IMG_8323.MOV : In a bustling outdoor kitchen at Malin Plaza in Phuket, a chef expertly grills seafood. \\nThe **Setting** is a lively street food stall, likely during late afternoon given the natural lighting. \\nThe **Action** focuses on the chef skillfully preparing food. \\nThe **Mood/Context** evokes a sense of local culinary culture, highlighting the freshness and abundance of seafood in Thai cuisine. The user is not present in the video.\\n20. IMG_8312.MOV : At a bustling market in Phuket, Thailand, a man grills meat over an open flame. He skillfully flips the food with chopsticks, surrounded by fans and shoppers. The vibrant atmosphere is filled with the savory aroma of grilled delights, showcasing a lively street food scene in Pa Tong, where locals and tourists alike savor the flavors of the region. The man is present in the video.\\n21. IMG_8315.MOV : At Malin Plaza in Phuket, Thailand, a woman expertly prepares a crepe. \\n## Setting\\nThe bustling environment suggests a lively marketplace. \\n## Action\\nShe skillfully flips and cooks the crepe on a griddle.\\n## Mood/Context\\nThe scene exudes a sense of local culinary tradition, capturing the vibrant food culture of Thailand; the user is present in the video.\\n22. IMG_8349.MOV : At Malin Plaza in Phuket, Thailand, a man savors street food. \\nHe serves himself a variety of fried bites **(Action)**, under the lively evening atmosphere of a bustling night market **(Setting)**. \\nHis expressions convey joy and satisfaction **(Mood)**, blending with the cultural vibrancy of the location. The user is present in the video.\\n23. IMG_8340.MOV : At Phuket Ink Tattoo, a vibrant street scene unfolds at night. A group of friends, including the user, sit at a table, savoring food and drinks. The setting is lively, with a 7-Eleven store and other shops in the background. The atmosphere is casual and social, with people chatting and enjoying their meals. The scene exudes a sense of carefree joy and cultural immersion in Patong, Phuket Province, Thailand.\\n24. IMG_7955.MOV : At the Sanctuary of Truth in Pattaya, Thailand, a woman savors a refreshing drink through a straw. She holds the orange beverage in one hand and her phone in the other. As she drinks and navigates with her phone, the cultural landmark looms in the background, blending tradition with modern leisure. The user is present in the video.\\n25. IMG_8313.MOV : In a bustling kitchen at Malin Plaza in Phuket, Thailand, a chef expertly stirs a sizzling wok. \\n## Setting\\nThe indoor setting with gray floors and blue buckets suggests a commercial kitchen, likely during the day.\\n## Action\\nThe chef mixes rice, vegetables, and chicken with skillful strokes.\\n## Mood/Context\\nThe lively scene captures the art of Thai cooking. \\nThe user is not present in the video.\\n26. IMG_8295.MOV : At Malin Plaza Market in Phuket, Thailand, a cook prepares a vibrant dish. \\nSetting: A bustling market kitchen, likely during the day. \\nAction: A person stirs and seasons a noodle dish with vegetables. \\nMood/Context: The scene captures the local culinary spirit, with the cook\\'s skilled hands at work, surrounded by the sights and smells of Thai street food. The user is present in the video.\\n27. IMG_7842.MOV : At night, a man enjoys street food at a lively market. He savors each bite of noodles and soup. Located at Krung Thai Bank, Pattaya Sai Song Road, the scene captures the vibrant atmosphere of Pattaya City\\'s food culture. The user is present in the video, relishing local cuisine. The setting is casual and inviting, perfect for a night out.\\n28. IMG_8052.MOV : Vendors arrange skewers of meat and seafood at a bustling night market. Pattaya Park Night Plaza comes alive with vibrant food stalls. Sellers prepare dishes as customers browse. The scene exudes lively evening market charm, with colorful offerings and enticing aromas. Users are present in the video, capturing the dynamic atmosphere of a popular tourist destination.\\n29. IMG_8294.MOV : At Malin Plaza Market in Phuket, Thailand, a chef stirs a sizzling wok, cooking a vibrant dish. The scene unfolds during the day, with the chef\\'s hands moving swiftly, conveying a sense of urgency. The atmosphere is lively, capturing the essence of a bustling market. The chef is present in the video. \\n\\nThe description is: \"Daytime cooking at Malin Plaza Market, a chef stirs a sizzling wok, blending ingredients with skill and speed.\"\\n30. IMG_7836.MOV : At night, a woman enjoys a seafood salad at Central Marina, Pattaya. She savors each bite, relishing her meal. The vibrant atmosphere and lively ambiance of the marina add to her dining experience, making it a delightful evening out. The woman is present in the video.\\n31. IMG_8282.MOV : Under the vibrant night sky, a woman expertly grills meat and seafood on a large grill. The setting appears to be a bustling outdoor market or food court in Malin Plaza, Phuket Province, Thailand. As she skillfully tends to the grill, the atmosphere is lively with people enjoying their meals in the background, capturing a moment of culinary delight in a popular tourist destination. The user is not present in the video.\\n32. IMG_8357.MOV : At Malin Plaza in bustling Patong, Phuket, a chef crafts a Thai crepe. \\n## Setting\\nIn a vibrant night market setting with bright lights reflecting off metal surfaces.\\n## Action\\nThe chef skillfully spreads and folds a crepe batter mixture.\\n## Mood/Context\\nThe scene exudes the lively flavors and street food culture of Thailand. The user is not present in the video.\\n33. IMG_8368.MOV : At a vibrant night market in Phuket, Thailand, a man in a red hat and apron prepares fresh orange juice. He blends chunks of orange in a red blender, surrounded by baskets of fruit and utensils. The lively atmosphere of Soi Dragon Market in Patong comes alive under the evening lights. The man is present in the video.\\n34. IMG_8304.MOV : At a bustling market in Patong, Phuket Province, Thailand, a man expertly grills skewers of meat. The vibrant scene unfolds during the day, with the vendor attentively preparing his offerings. The atmosphere is lively, reflecting the local culture of street food and community. The user is present in the video, capturing the sights and sounds of this culinary hotspot. Savoring the flavors of Thailand, one bite at a time.\\n35. IMG_8552.MOV : In the vibrant streets of Yaowarat, Bangkok, a street food vendor expertly stirs a sizzling pan of fried squid on Yaowaphanit Road. The evening scene showcases the vendor\\'s skilled movements as he prepares the dish. The cultural hub of Samphanthawong comes alive with the enticing aroma of street food, capturing the essence of local culinary traditions. The user is not present in the video.\\n36. IMG_8555.MOV : At Old Market\\'s vibrant Soi Wanit 1, a woman expertly grills skewers of food on a bustling street food stall. She skillfully tends to the sizzling treats, wearing a crisp white cap, black face mask, and blue apron. The atmosphere is lively, with the enticing aromas of street food wafting through the air, capturing the essence of Bangkok\\'s rich culinary scene. The user is not present in the video.\\n37. IMG_8332.MOV : At a lively night market, patrons gather around tables, savoring local delights. The user is present in the video, enthusiastically reaching for food. A man in a gray T-shirt and shorts shares a meal with friends. The atmosphere is vibrant and social, with TV screens and neon lights adding to the excitement. Malin Plaza\\'s evening buzz comes alive in Phuket Province, Thailand.\\n38. IMG_8538.MOV : On Charoen Krung Road in Bangkok\\'s vibrant Yaowarat district, a bustling eatery comes alive. Patrons sit at low tables, savoring meals and conversation. The casual setting exudes a cozy, communal atmosphere, with diners dressed in everyday attire. A server, easily identifiable by their apron, attends to customers. The scene pulses with the energy of a popular local restaurant, possibly serving traditional street food. The user is not present in the video.\\n39. IMG_7928.MOV : \"Savoring a culinary delight on ถนนหาดตาแหวน, Pattaya City! The video shows a mouthwatering sequence of shrimp tempura and fried rice dishes, each served with a side of fresh lettuce and a dipping sauce. The user presents a selection of Thai delicacies, inviting viewers to indulge in the local flavors and aromas of this popular beachside destination.\"\\n40. IMG_8356.MOV : On Prachanukhro Road in bustling Patong, Phuket, a man relishes a meal. \\nThe user is present in the video. \\nThe setting appears to be a crowded food court or restaurant, possibly during evening hours. \\nThe main action shows the man enthusiastically eating. \\nThe mood is casual and joyful. \\nThe cultural nuance of a vibrant Thai eatery adds to the lively atmosphere.\\n41. IMG_8360.MOV : In a vibrant setting, likely a bustling daytime scene in Malin Plaza, Phuket, a woman sips a refreshing drink through a purple straw. Her expressive faces and colorful outfit add to the lively atmosphere. With a tropical drink in hand, she embodies a carefree moment of relaxation. The user is present in the video.\\n42. IMG_8367.MOV : In a vibrant market setting, likely evening, a man prepares drinks. He stands behind a rustic wooden counter adorned with fruits and drinks. The man, present in the video, engages in serving, adding to the lively atmosphere. Located in Soa Luangwat, Phuket Province, Thailand, the scene exudes a casual, tropical vibe, inviting passersby to enjoy local refreshments.\\n43. IMG_8358.MOV : At Malin Plaza Market in Phuket, Thailand, a woman grills seafood to perfection. \\n## Setting \\nUnder the market\\'s evening lights, she works at a bustling food stall.\\n## Action \\nWith tongs in hand, she expertly flips fish and shellfish.\\n## Mood/Context \\nThe lively scene captures the sights and smells of Thai street food culture, tempting passersby with savory delights. The user is not present in the video.\\n44. IMG_8565.MOV : The woman is present in the video. \\nIn the vibrant streets of Bangkok\\'s Yaowarat district, a woman savoring a refreshing drink on a warm evening. She enjoys a cool treat, likely durian, at Bua Loy Gold Finger Durian on Yaowarat Road. With each sip and bite, her expressions dance with delight, capturing the joy of exploring Bangkok\\'s culinary scene.\\n45. IMG_8333.MOV : Amidst the vibrant night scene at Malin Plaza in Phuket, Thailand, a family savors a meal together. Seated at a table, they enjoy their food with chopsticks, while others dine and socialize in the background. The atmosphere is lively, with a mix of locals and tourists. The user is present in the video. The setting appears to be evening, with the scene illuminated by lights.\\n46. IMG_8327.MOV : At Malin Plaza in Phuket, Thailand, a woman grills seafood. \\n## Setting\\nInside a market, likely evening.\\n## Action\\nThe woman prepares food, turning seafood on a grill.\\n## Mood/Context\\nSavoring local flavors in a lively area. \\n\\nThe description is: \"Inside a bustling market at Malin Plaza in Phuket, a woman expertly grills seafood on a sizzling grill, surrounded by shoppers. The evening atmosphere is lively and inviting.\"\\n47. IMG_8311.MOV : In a bustling market on Prachanukhro Road, Pa Tong, Phuket Province, Thailand, a vendor is captured in action. The setting appears to be an indoor market with a lively atmosphere. The main action shows the vendor spraying a substance, likely a topping, onto foil-wrapped foods on a grill. The mood is vibrant, capturing the essence of street food culture in a popular tourist area. The user is not present in the video.\\n48. IMG_7932.MOV : A young girl savors a bite of rice at a vibrant food setting on Haad Ta Waen beach in Pattaya, Thailand. The user is present in the video. With each sequential frame, she elegantly brings the dish to her mouth, enjoying her meal. The casual ambiance suggests a relaxed dining experience, possibly at a local eatery. Her expression reflects delight in the flavors.\\n49. IMG_7935.MOV : In a bustling kitchen on ถนนหาดตาแหวน, Pattaya City, Thailand, a woman waves enthusiastically while her colleague prepares ingredients nearby. The scene unfolds with a stainless steel counter groaning under fresh produce, condiments, and cooking essentials. As the woman playfully acknowledges the camera, the atmosphere remains lively and inviting. The user is present in the video.\\n50. IMG_8310.MOV : At Malin Plaza Market in Phuket, Thailand, a man expertly grills skewers of shrimp. \\nHe attentively tends to the sizzling seafood, capturing the lively market atmosphere. \\nThe vibrant scene embodies the local culinary spirit, with the vendor\\'s focus on his craft. \\nThe user\\'s presence is not visible in the video. \\nThe setting appears to be during the day, showcasing a typical market scene.\\n51. IMG_8317.MOV : At Malin Plaza in Phuket, Thailand, a vendor skillfully grills food on a bustling night market. Using a blowtorch, he sets the dish ablaze. The atmosphere is lively, with colorful lights and people milling about. The vendor, wearing a black uniform, focuses on his craft. The user is not present in the video. The scene exudes a sense of excitement and culinary expertise.\\n52. IMG_8328.MOV : At Malin Plaza Market in Phuket, Thailand, a vendor expertly cooks a Thai-style omelet. The sequence shows the egg mixture being stirred and cooked to perfection in a wok. The bustling market atmosphere surrounds the vendor as they skillfully prepare the dish, capturing the sights and sounds of a vibrant street food scene. The user is not present in the video.\\n53. IMG_7933.MOV : The user is present in the video. \\n\\nSavoring a meal at a bustling eatery in Thailand, a man in a red shirt enjoys his food. The setting appears to be a casual dining area, possibly near Haad Ta Waen beach. He takes bites, smiles, and savors each mouthful, relishing the flavors. The lively atmosphere and his contented expressions evoke a sense of satisfaction and joy.\\n54. IMG_8291.MOV : At Phuket Ink Tattoo on Prachanukhro Road, a bustling market scene unfolds. A vendor, present in the video, arranges steamed dumplings on plates. The setting appears to be an indoor market with a lively atmosphere. The action focuses on food preparation. The mood is casual, reflecting the local culture of street food in Phuket, Thailand. The vendor carefully serves dumplings, inviting passersby to savor the delicious offerings.\\n55. IMG_8290.MOV : At Malin Plaza in bustling Patong, Phuket Province, Thailand, sizzling salmon steaks take center stage. The user is not present in the video. As the steaks grill on a metal surface, savory aromas fill the lively atmosphere. The scene exudes a sense of casual dining, inviting passersby to indulge in a delicious meal. Evening lights add to the allure of this street food haven.\\n56. IMG_8299.MOV : At Malin Plaza in Phuket, Thailand, a bustling outdoor market scene unfolds. A chef, not present in the main action but implied to be nearby, expertly grills an assortment of seafood on a large grill. Shrimp, fish, and oysters sizzle, filling the air with savory aromas. The vibrant atmosphere reflects the region\\'s rich culinary culture, inviting passersby to sample local delights.'"
      ]
     },
     "execution_count": 183,
     "metadata": {},
     "output_type": "execute_result"
    }
   ],
   "source": [
    "description"
   ]
  },
  {
   "cell_type": "code",
   "execution_count": null,
   "id": "284ff265",
   "metadata": {},
   "outputs": [],
   "source": [
    "# def get_system_prompt_for_script_creation() -> str:\n",
    "#     return \"\"\"\n",
    "#         You are a professional video editor and storyteller.\n",
    "#         Your task is to generate a compelling and structured 60-second Instagram Reel script using unordered B-roll video descriptions.\n",
    "\n",
    "#         ### Instructions:\n",
    "#             1. Read and understand the unordered list of video descriptions provided.\n",
    "#             2. Craft a clear, engaging narrative suitable for a 60-second Instagram Reel.\n",
    "#             3. Do not follow the input order. Instead, curate a logical and engaging story from the available content.\n",
    "#             4. Select only the most relevant videos that help tell the story—not all videos need to be used.\n",
    "#             7. Make sure you pick the videos having the user.\n",
    "#             5. Each video clip is 3–5 seconds long, so choose at least 10 videos to fill the reel duration (~60 seconds).\n",
    "#             6. Sequence the chosen videos in an order that matches your narrative.\n",
    "#             7. Output the result in two sections:\n",
    "#                 sequence: A list of the selected video filenames in narrative order.\n",
    "#                 narrative: A short written script or description summarizing the story arc of the reel.\n",
    "#     \"\"\""
   ]
  },
  {
   "cell_type": "code",
   "execution_count": 198,
   "id": "11ed7775",
   "metadata": {},
   "outputs": [],
   "source": [
    "import librosa\n",
    "from datetime import timedelta\n",
    "\n",
    "def get_beat_timestamps(audio_path, duration=None):\n",
    "    y, sr = librosa.load(audio_path)\n",
    "    onset_env = librosa.onset.onset_strength(y=y, sr=sr)\n",
    "    onset_frames = librosa.onset.onset_detect(onset_envelope=onset_env, sr=sr, units='frames', backtrack=True, hop_length=256)\n",
    "    beat_times = librosa.frames_to_time(onset_frames, sr=sr)\n",
    "    beat_timestamps = [timedelta(seconds=float(t)) for t in beat_times]\n",
    "    return beat_timestamps"
   ]
  },
  {
   "cell_type": "code",
   "execution_count": 205,
   "id": "62a328b7",
   "metadata": {},
   "outputs": [],
   "source": [
    "def get_system_prompt_for_script_creation(num_scenes: int) -> str:\n",
    "    return f\"\"\"\n",
    "        You are a professional video editor and storyteller.\n",
    "        Your task is to generate a compelling and structured 60-second Instagram Reel script using unordered B-roll video descriptions.\n",
    "        Make the script as detailed as possible. Include transitions in the script. The number of scenes require for the script are {num_scenes}\n",
    "\n",
    "        ### Instructions:\n",
    "            1. Read and understand the unordered list of video descriptions provided.\n",
    "            2. Craft a clear, engaging narrative suitable for a 60-second Instagram Reel.\n",
    "            3. Do not follow the input order. Instead, curate a logical and engaging story from the available content.\n",
    "            4. Describe each scene in detail.\n",
    "            5. There should be a logical order and continuity for one scene to another.\n",
    "            6. Finally when all scenes are put together, there should be continuity for the whole script.\n",
    "            7. The script and scenes should be engaging for the user.\n",
    "            9. Do not include video name in the script.\n",
    "            10. A scene can be a part of a video.\n",
    "            11. Ensure there are {num_scenes} scenes in the script.\n",
    "            12. Need to make sure you do  not compermise the number of scenes\n",
    "            11. Output the result in two sections:\n",
    "                scenes: A list of scenes to create the real.\n",
    "    \"\"\""
   ]
  },
  {
   "cell_type": "code",
   "execution_count": 206,
   "id": "cef43d82",
   "metadata": {},
   "outputs": [
    {
     "data": {
      "text/plain": [
       "55"
      ]
     },
     "execution_count": 206,
     "metadata": {},
     "output_type": "execute_result"
    }
   ],
   "source": [
    "beats = get_beat_timestamps(\"./music/1.mp3\")\n",
    "len(beats)"
   ]
  },
  {
   "cell_type": "code",
   "execution_count": 208,
   "id": "58928190",
   "metadata": {},
   "outputs": [],
   "source": [
    "import os\n",
    "from groq import Groq\n",
    "import instructor\n",
    "from pydantic import BaseModel\n",
    "from typing import Annotated\n",
    "\n",
    "# Initialize with API key\n",
    "client = Groq(api_key=os.getenv(\"GROQ_API_KEY\"))\n",
    "\n",
    "# Enable instructor patches for Groq client\n",
    "client = instructor.from_groq(client)\n",
    "\n",
    "\n",
    "# class Script(BaseModel):\n",
    "#     script: Annotated[str, \"The constructed narrative based on the unordered b-roll descriptions.\"]\n",
    "#     sequence: Annotated[list[str], \"Order of the video names based on the constructed narrative.\"]\n",
    "\n",
    "class Script(BaseModel):\n",
    "    scenes: Annotated[list[str], \"Scenes in order.\"]\n",
    "\n",
    "\n",
    "# Create structured output\n",
    "script = client.chat.completions.create(\n",
    "    model=\"llama-3.3-70b-versatile\",\n",
    "    messages=[\n",
    "        {\"role\": \"system\", \"content\": get_system_prompt_for_script_creation(num_scenes=len(beats))},\n",
    "        {\"role\": \"user\", \"content\": description}\n",
    "    ],\n",
    "    response_model=Script,\n",
    ")"
   ]
  },
  {
   "cell_type": "code",
   "execution_count": 209,
   "id": "e79b796b",
   "metadata": {},
   "outputs": [
    {
     "data": {
      "text/plain": [
       "43"
      ]
     },
     "execution_count": 209,
     "metadata": {},
     "output_type": "execute_result"
    }
   ],
   "source": [
    "len(script.scenes)"
   ]
  },
  {
   "cell_type": "code",
   "execution_count": null,
   "id": "7fc7c247",
   "metadata": {},
   "outputs": [],
   "source": []
  },
  {
   "cell_type": "code",
   "execution_count": 187,
   "id": "c7690c83",
   "metadata": {},
   "outputs": [],
   "source": [
    "import os\n",
    "import random\n",
    "from PIL import Image\n",
    "from moviepy import VideoFileClip, AudioFileClip, concatenate_videoclips\n",
    "from moviepy.video.VideoClip import ImageClip\n",
    "\n",
    "from pathlib import Path\n",
    "from typing import List, Optional\n",
    "\n",
    "def create_video(video_clips: List[Path], audio_file: Optional[Path] = None, output_file: str = \"thailand_trip.mp4\"):\n",
    "    fps = 30\n",
    "    width, height = 1280, 720\n",
    "\n",
    "    # Load and resize video clips\n",
    "    clips = [VideoFileClip(str(clip)) for clip in video_clips]\n",
    "\n",
    "    # Concatenate all clips\n",
    "    final_video = concatenate_videoclips(clips, method=\"compose\")\n",
    "\n",
    "    # Add audio if provided\n",
    "    if audio_file:\n",
    "        audio = AudioFileClip(str(audio_file))\n",
    "        final_video = final_video.set_audio(audio)\n",
    "\n",
    "    # Write the final video\n",
    "    final_video.write_videofile(output_file, fps=fps, codec=\"libx264\", audio_codec=\"aac\")\n"
   ]
  },
  {
   "cell_type": "code",
   "execution_count": 189,
   "id": "55c2b8d8",
   "metadata": {},
   "outputs": [
    {
     "data": {
      "text/plain": [
       "11"
      ]
     },
     "execution_count": 189,
     "metadata": {},
     "output_type": "execute_result"
    }
   ],
   "source": [
    "sequence = script.sequence\n",
    "sequence = [Path(\"../sample_data/Thailand\") / video for video in sequence]\n",
    "len(sequence)"
   ]
  },
  {
   "cell_type": "code",
   "execution_count": 190,
   "id": "e334d0da",
   "metadata": {},
   "outputs": [
    {
     "name": "stdout",
     "output_type": "stream",
     "text": [
      "{'video_found': True, 'audio_found': True, 'metadata': {'major_brand': 'qt', 'minor_version': '0', 'compatible_brands': 'qt', 'creation_time': '2024-02-18T10:34:30.000000Z', 'com.apple.quicktime.location.accuracy.horizontal': '35.000000', 'com.apple.quicktime.cinematic-video': '', 'com.apple.quicktime.location.ISO6709': '+07.8809+098.2919+005.853/', 'com.apple.quicktime.make': 'Apple', 'com.apple.quicktime.model': 'iPhone 13', 'com.apple.quicktime.software': '17.3', 'com.apple.quicktime.creationdate': '2024-02-12T10:01:35+0700'}, 'inputs': [{'streams': [{'input_number': 0, 'stream_number': 0, 'stream_type': 'video', 'language': None, 'default': True, 'size': [1920, 1080], 'bitrate': 11422, 'fps': 30.0, 'codec_name': 'hevc', 'profile': '(Main)', 'metadata': {'Metadata': '', 'creation_time': '2024-02-18T10:34:30.000000Z', 'handler_name': 'Core Media Video', 'vendor_id': '[0][0][0][0]', 'encoder': 'HEVC', 'Side data': '', 'displaymatrix': 'rotation of -90.00 degrees'}}, {'input_number': 0, 'stream_number': 1, 'stream_type': 'audio', 'language': None, 'default': True, 'fps': 44100, 'bitrate': 181, 'metadata': {'Metadata': '', 'creation_time': '2024-02-18T10:34:30.000000Z', 'handler_name': 'Core Media Audio', 'vendor_id': '[0][0][0][0]'}}], 'input_number': 0}], 'duration': 4.47, 'bitrate': 11616, 'start': 0.0, 'default_video_input_number': 0, 'default_video_stream_number': 0, 'video_codec_name': 'hevc', 'video_profile': '(Main)', 'video_size': [1920, 1080], 'video_bitrate': 11422, 'video_fps': 30.0, 'default_audio_input_number': 0, 'default_audio_stream_number': 1, 'audio_fps': 44100, 'audio_bitrate': 181, 'video_duration': 4.47, 'video_n_frames': 134}\n",
      "/Users/dreaminds/Desktop/POCs/VideoAnalyser/.venv/lib/python3.12/site-packages/imageio_ffmpeg/binaries/ffmpeg-macos-aarch64-v7.1 -i ../sample_data/Thailand/IMG_8414.MOV -loglevel error -f image2pipe -vf scale=1920:1080 -sws_flags bicubic -pix_fmt rgb24 -vcodec rawvideo -\n",
      "{'video_found': True, 'audio_found': True, 'metadata': {'major_brand': 'qt', 'minor_version': '0', 'compatible_brands': 'qt', 'creation_time': '2024-04-29T21:10:44.000000Z', 'com.apple.quicktime.location.accuracy.horizontal': '5.834513', 'com.apple.quicktime.cinematic-video': '', 'com.apple.quicktime.location.ISO6709': '+07.8824+098.2933+006.713/', 'com.apple.quicktime.make': 'Apple', 'com.apple.quicktime.model': 'iPhone 13', 'com.apple.quicktime.software': '17.3', 'com.apple.quicktime.creationdate': '2024-02-11T19:40:55+0700'}, 'inputs': [{'streams': [{'input_number': 0, 'stream_number': 0, 'stream_type': 'video', 'language': None, 'default': True, 'size': [1920, 1080], 'bitrate': 11269, 'fps': 30.0, 'codec_name': 'hevc', 'profile': '(Main)', 'metadata': {'Metadata': '', 'creation_time': '2024-04-29T21:10:44.000000Z', 'handler_name': 'Core Media Video', 'vendor_id': '[0][0][0][0]', 'encoder': 'HEVC', 'Side data': '', 'displaymatrix': 'rotation of -90.00 degrees'}}, {'input_number': 0, 'stream_number': 1, 'stream_type': 'audio', 'language': None, 'default': True, 'fps': 44100, 'bitrate': 188, 'metadata': {'Metadata': '', 'creation_time': '2024-04-29T21:10:44.000000Z', 'handler_name': 'Core Media Audio', 'vendor_id': '[0][0][0][0]'}}], 'input_number': 0}], 'duration': 2.67, 'bitrate': 11474, 'start': 0.0, 'default_video_input_number': 0, 'default_video_stream_number': 0, 'video_codec_name': 'hevc', 'video_profile': '(Main)', 'video_size': [1920, 1080], 'video_bitrate': 11269, 'video_fps': 30.0, 'default_audio_input_number': 0, 'default_audio_stream_number': 1, 'audio_fps': 44100, 'audio_bitrate': 188, 'video_duration': 2.67, 'video_n_frames': 80}\n",
      "/Users/dreaminds/Desktop/POCs/VideoAnalyser/.venv/lib/python3.12/site-packages/imageio_ffmpeg/binaries/ffmpeg-macos-aarch64-v7.1 -i ../sample_data/Thailand/IMG_8287.MOV -loglevel error -f image2pipe -vf scale=1920:1080 -sws_flags bicubic -pix_fmt rgb24 -vcodec rawvideo -\n",
      "{'video_found': True, 'audio_found': True, 'metadata': {'major_brand': 'qt', 'minor_version': '0', 'compatible_brands': 'qt', 'creation_time': '2024-02-18T20:02:59.000000Z', 'com.apple.quicktime.location.accuracy.horizontal': '3.535534', 'com.apple.quicktime.cinematic-video': '', 'com.apple.quicktime.location.ISO6709': '+07.8825+098.2932+004.852/', 'com.apple.quicktime.make': 'Apple', 'com.apple.quicktime.model': 'iPhone 13', 'com.apple.quicktime.software': '17.3', 'com.apple.quicktime.creationdate': '2024-02-11T19:42:31+0700'}, 'inputs': [{'streams': [{'input_number': 0, 'stream_number': 0, 'stream_type': 'video', 'language': None, 'default': True, 'size': [1920, 1080], 'bitrate': 11082, 'fps': 30.0, 'codec_name': 'hevc', 'profile': '(Main)', 'metadata': {'Metadata': '', 'creation_time': '2024-02-18T20:02:59.000000Z', 'handler_name': 'Core Media Video', 'vendor_id': '[0][0][0][0]', 'encoder': 'HEVC', 'Side data': '', 'displaymatrix': 'rotation of -90.00 degrees'}}, {'input_number': 0, 'stream_number': 1, 'stream_type': 'audio', 'language': None, 'default': True, 'fps': 44100, 'bitrate': 186, 'metadata': {'Metadata': '', 'creation_time': '2024-02-18T20:02:59.000000Z', 'handler_name': 'Core Media Audio', 'vendor_id': '[0][0][0][0]'}}], 'input_number': 0}], 'duration': 3.27, 'bitrate': 11284, 'start': 0.0, 'default_video_input_number': 0, 'default_video_stream_number': 0, 'video_codec_name': 'hevc', 'video_profile': '(Main)', 'video_size': [1920, 1080], 'video_bitrate': 11082, 'video_fps': 30.0, 'default_audio_input_number': 0, 'default_audio_stream_number': 1, 'audio_fps': 44100, 'audio_bitrate': 186, 'video_duration': 3.27, 'video_n_frames': 98}\n",
      "/Users/dreaminds/Desktop/POCs/VideoAnalyser/.venv/lib/python3.12/site-packages/imageio_ffmpeg/binaries/ffmpeg-macos-aarch64-v7.1 -i ../sample_data/Thailand/IMG_8289.MOV -loglevel error -f image2pipe -vf scale=1920:1080 -sws_flags bicubic -pix_fmt rgb24 -vcodec rawvideo -\n",
      "{'video_found': True, 'audio_found': True, 'metadata': {'major_brand': 'qt', 'minor_version': '0', 'compatible_brands': 'qt', 'creation_time': '2024-02-14T22:07:14.000000Z', 'com.apple.quicktime.location.accuracy.horizontal': '419.784392', 'com.apple.quicktime.cinematic-video': '', 'com.apple.quicktime.location.ISO6709': '+13.7407+100.5083+002.224/', 'com.apple.quicktime.make': 'Apple', 'com.apple.quicktime.model': 'iPhone 13', 'com.apple.quicktime.software': '17.3', 'com.apple.quicktime.creationdate': '2024-02-13T21:13:19+0700'}, 'inputs': [{'streams': [{'input_number': 0, 'stream_number': 0, 'stream_type': 'video', 'language': None, 'default': True, 'size': [1920, 1080], 'bitrate': 11413, 'fps': 30.0, 'codec_name': 'hevc', 'profile': '(Main)', 'metadata': {'Metadata': '', 'creation_time': '2024-02-14T22:07:14.000000Z', 'handler_name': 'Core Media Video', 'vendor_id': '[0][0][0][0]', 'encoder': 'HEVC', 'Side data': '', 'displaymatrix': 'rotation of -90.00 degrees'}}, {'input_number': 0, 'stream_number': 1, 'stream_type': 'audio', 'language': None, 'default': True, 'fps': 44100, 'bitrate': 189, 'metadata': {'Metadata': '', 'creation_time': '2024-02-14T22:07:14.000000Z', 'handler_name': 'Core Media Audio', 'vendor_id': '[0][0][0][0]'}}], 'input_number': 0}], 'duration': 11.7, 'bitrate': 11610, 'start': 0.0, 'default_video_input_number': 0, 'default_video_stream_number': 0, 'video_codec_name': 'hevc', 'video_profile': '(Main)', 'video_size': [1920, 1080], 'video_bitrate': 11413, 'video_fps': 30.0, 'default_audio_input_number': 0, 'default_audio_stream_number': 1, 'audio_fps': 44100, 'audio_bitrate': 189, 'video_duration': 11.7, 'video_n_frames': 351}\n",
      "/Users/dreaminds/Desktop/POCs/VideoAnalyser/.venv/lib/python3.12/site-packages/imageio_ffmpeg/binaries/ffmpeg-macos-aarch64-v7.1 -i ../sample_data/Thailand/IMG_8556.MOV -loglevel error -f image2pipe -vf scale=1920:1080 -sws_flags bicubic -pix_fmt rgb24 -vcodec rawvideo -\n",
      "{'video_found': True, 'audio_found': True, 'metadata': {'major_brand': 'qt', 'minor_version': '0', 'compatible_brands': 'qt', 'creation_time': '2024-04-29T21:15:57.000000Z', 'com.apple.quicktime.location.accuracy.horizontal': '4.752889', 'com.apple.quicktime.cinematic-video': '', 'com.apple.quicktime.location.ISO6709': '+07.8824+098.2933+007.940/', 'com.apple.quicktime.make': 'Apple', 'com.apple.quicktime.model': 'iPhone 13', 'com.apple.quicktime.software': '17.3', 'com.apple.quicktime.creationdate': '2024-02-11T20:40:25+0700'}, 'inputs': [{'streams': [{'input_number': 0, 'stream_number': 0, 'stream_type': 'video', 'language': None, 'default': True, 'size': [1920, 1080], 'bitrate': 11306, 'fps': 30.0, 'codec_name': 'hevc', 'profile': '(Main)', 'metadata': {'Metadata': '', 'creation_time': '2024-04-29T21:15:57.000000Z', 'handler_name': 'Core Media Video', 'vendor_id': '[0][0][0][0]', 'encoder': 'HEVC', 'Side data': '', 'displaymatrix': 'rotation of -90.00 degrees'}}, {'input_number': 0, 'stream_number': 1, 'stream_type': 'audio', 'language': None, 'default': True, 'fps': 44100, 'bitrate': 188, 'metadata': {'Metadata': '', 'creation_time': '2024-04-29T21:15:57.000000Z', 'handler_name': 'Core Media Audio', 'vendor_id': '[0][0][0][0]'}}], 'input_number': 0}], 'duration': 2.8, 'bitrate': 11512, 'start': 0.0, 'default_video_input_number': 0, 'default_video_stream_number': 0, 'video_codec_name': 'hevc', 'video_profile': '(Main)', 'video_size': [1920, 1080], 'video_bitrate': 11306, 'video_fps': 30.0, 'default_audio_input_number': 0, 'default_audio_stream_number': 1, 'audio_fps': 44100, 'audio_bitrate': 188, 'video_duration': 2.8, 'video_n_frames': 84}\n",
      "/Users/dreaminds/Desktop/POCs/VideoAnalyser/.venv/lib/python3.12/site-packages/imageio_ffmpeg/binaries/ffmpeg-macos-aarch64-v7.1 -i ../sample_data/Thailand/IMG_8336.MOV -loglevel error -f image2pipe -vf scale=1920:1080 -sws_flags bicubic -pix_fmt rgb24 -vcodec rawvideo -\n",
      "{'video_found': True, 'audio_found': True, 'metadata': {'major_brand': 'qt', 'minor_version': '0', 'compatible_brands': 'qt', 'creation_time': '2024-02-14T09:26:44.000000Z', 'com.apple.quicktime.location.accuracy.horizontal': '22.571348', 'com.apple.quicktime.cinematic-video': '', 'com.apple.quicktime.location.ISO6709': '+13.7715+100.5568+008.257/', 'com.apple.quicktime.make': 'Apple', 'com.apple.quicktime.model': 'iPhone 13', 'com.apple.quicktime.software': '17.3', 'com.apple.quicktime.creationdate': '2024-02-14T15:59:15+0700'}, 'inputs': [{'streams': [{'input_number': 0, 'stream_number': 0, 'stream_type': 'video', 'language': None, 'default': True, 'size': [1920, 1080], 'bitrate': 11576, 'fps': 30.0, 'codec_name': 'hevc', 'profile': '(Main)', 'metadata': {'Metadata': '', 'creation_time': '2024-02-14T09:26:44.000000Z', 'handler_name': 'Core Media Video', 'vendor_id': '[0][0][0][0]', 'encoder': 'HEVC', 'Side data': '', 'displaymatrix': 'rotation of -90.00 degrees'}}, {'input_number': 0, 'stream_number': 1, 'stream_type': 'audio', 'language': None, 'default': True, 'fps': 44100, 'bitrate': 188, 'metadata': {'Metadata': '', 'creation_time': '2024-02-14T09:26:44.000000Z', 'handler_name': 'Core Media Audio', 'vendor_id': '[0][0][0][0]'}}], 'input_number': 0}], 'duration': 22.73, 'bitrate': 11772, 'start': 0.0, 'default_video_input_number': 0, 'default_video_stream_number': 0, 'video_codec_name': 'hevc', 'video_profile': '(Main)', 'video_size': [1920, 1080], 'video_bitrate': 11576, 'video_fps': 30.0, 'default_audio_input_number': 0, 'default_audio_stream_number': 1, 'audio_fps': 44100, 'audio_bitrate': 188, 'video_duration': 22.73, 'video_n_frames': 681}\n",
      "/Users/dreaminds/Desktop/POCs/VideoAnalyser/.venv/lib/python3.12/site-packages/imageio_ffmpeg/binaries/ffmpeg-macos-aarch64-v7.1 -i ../sample_data/Thailand/IMG_8593.MOV -loglevel error -f image2pipe -vf scale=1920:1080 -sws_flags bicubic -pix_fmt rgb24 -vcodec rawvideo -\n",
      "{'video_found': True, 'audio_found': True, 'metadata': {'major_brand': 'qt', 'minor_version': '0', 'compatible_brands': 'qt', 'creation_time': '2024-02-18T20:19:13.000000Z', 'com.apple.quicktime.location.accuracy.horizontal': '4.905761', 'com.apple.quicktime.cinematic-video': '', 'com.apple.quicktime.location.ISO6709': '+07.8826+098.2931+006.498/', 'com.apple.quicktime.make': 'Apple', 'com.apple.quicktime.model': 'iPhone 13', 'com.apple.quicktime.software': '17.3', 'com.apple.quicktime.creationdate': '2024-02-11T19:55:07+0700'}, 'inputs': [{'streams': [{'input_number': 0, 'stream_number': 0, 'stream_type': 'video', 'language': None, 'default': True, 'size': [1920, 1080], 'bitrate': 11458, 'fps': 30.02, 'codec_name': 'hevc', 'profile': '(Main)', 'metadata': {'Metadata': '', 'creation_time': '2024-02-18T20:19:13.000000Z', 'handler_name': 'Core Media Video', 'vendor_id': '[0][0][0][0]', 'encoder': 'HEVC', 'Side data': '', 'displaymatrix': 'rotation of -90.00 degrees'}}, {'input_number': 0, 'stream_number': 1, 'stream_type': 'audio', 'language': None, 'default': True, 'fps': 44100, 'bitrate': 192, 'metadata': {'Metadata': '', 'creation_time': '2024-02-18T20:19:13.000000Z', 'handler_name': 'Core Media Audio', 'vendor_id': '[0][0][0][0]'}}], 'input_number': 0}], 'duration': 2.47, 'bitrate': 11667, 'start': 0.0, 'default_video_input_number': 0, 'default_video_stream_number': 0, 'video_codec_name': 'hevc', 'video_profile': '(Main)', 'video_size': [1920, 1080], 'video_bitrate': 11458, 'video_fps': 30.02, 'default_audio_input_number': 0, 'default_audio_stream_number': 1, 'audio_fps': 44100, 'audio_bitrate': 192, 'video_duration': 2.47, 'video_n_frames': 74}\n",
      "/Users/dreaminds/Desktop/POCs/VideoAnalyser/.venv/lib/python3.12/site-packages/imageio_ffmpeg/binaries/ffmpeg-macos-aarch64-v7.1 -i ../sample_data/Thailand/IMG_8309.MOV -loglevel error -f image2pipe -vf scale=1920:1080 -sws_flags bicubic -pix_fmt rgb24 -vcodec rawvideo -\n",
      "{'video_found': True, 'audio_found': True, 'metadata': {'major_brand': 'qt', 'minor_version': '0', 'compatible_brands': 'qt', 'creation_time': '2024-02-18T07:28:40.000000Z', 'com.apple.quicktime.location.accuracy.horizontal': '3.535534', 'com.apple.quicktime.cinematic-video': '', 'com.apple.quicktime.location.ISO6709': '+07.8826+098.2930+003.602/', 'com.apple.quicktime.make': 'Apple', 'com.apple.quicktime.model': 'iPhone 13', 'com.apple.quicktime.software': '17.3', 'com.apple.quicktime.creationdate': '2024-02-11T21:21:00+0700'}, 'inputs': [{'streams': [{'input_number': 0, 'stream_number': 0, 'stream_type': 'video', 'language': None, 'default': True, 'size': [1920, 1080], 'bitrate': 11581, 'fps': 30.0, 'codec_name': 'hevc', 'profile': '(Main)', 'metadata': {'Metadata': '', 'creation_time': '2024-02-18T07:28:40.000000Z', 'handler_name': 'Core Media Video', 'vendor_id': '[0][0][0][0]', 'encoder': 'HEVC', 'Side data': '', 'displaymatrix': 'rotation of -90.00 degrees'}}, {'input_number': 0, 'stream_number': 1, 'stream_type': 'audio', 'language': None, 'default': True, 'fps': 44100, 'bitrate': 180, 'metadata': {'Metadata': '', 'creation_time': '2024-02-18T07:28:40.000000Z', 'handler_name': 'Core Media Audio', 'vendor_id': '[0][0][0][0]'}}], 'input_number': 0}], 'duration': 1.77, 'bitrate': 11782, 'start': 0.0, 'default_video_input_number': 0, 'default_video_stream_number': 0, 'video_codec_name': 'hevc', 'video_profile': '(Main)', 'video_size': [1920, 1080], 'video_bitrate': 11581, 'video_fps': 30.0, 'default_audio_input_number': 0, 'default_audio_stream_number': 1, 'audio_fps': 44100, 'audio_bitrate': 180, 'video_duration': 1.77, 'video_n_frames': 53}\n",
      "/Users/dreaminds/Desktop/POCs/VideoAnalyser/.venv/lib/python3.12/site-packages/imageio_ffmpeg/binaries/ffmpeg-macos-aarch64-v7.1 -i ../sample_data/Thailand/IMG_8360.MOV -loglevel error -f image2pipe -vf scale=1920:1080 -sws_flags bicubic -pix_fmt rgb24 -vcodec rawvideo -\n",
      "{'video_found': True, 'audio_found': True, 'metadata': {'major_brand': 'qt', 'minor_version': '0', 'compatible_brands': 'qt', 'creation_time': '2024-02-18T20:34:04.000000Z', 'com.apple.quicktime.location.accuracy.horizontal': '3.535534', 'com.apple.quicktime.cinematic-video': '', 'com.apple.quicktime.location.ISO6709': '+07.8828+098.2932+008.105/', 'com.apple.quicktime.make': 'Apple', 'com.apple.quicktime.model': 'iPhone 13', 'com.apple.quicktime.software': '17.3', 'com.apple.quicktime.creationdate': '2024-02-11T21:03:05+0700'}, 'inputs': [{'streams': [{'input_number': 0, 'stream_number': 0, 'stream_type': 'video', 'language': None, 'default': True, 'size': [1666, 936], 'bitrate': 11291, 'fps': 30.07, 'codec_name': 'hevc', 'profile': '(Main)', 'metadata': {'Metadata': '', 'creation_time': '2024-02-18T20:34:04.000000Z', 'handler_name': 'Core Media Video', 'vendor_id': '[0][0][0][0]', 'encoder': 'HEVC', 'Side data': '', 'displaymatrix': 'rotation of -90.00 degrees'}}, {'input_number': 0, 'stream_number': 1, 'stream_type': 'audio', 'language': None, 'default': True, 'fps': 44100, 'bitrate': 187, 'metadata': {'Metadata': '', 'creation_time': '2024-02-18T20:34:04.000000Z', 'handler_name': 'Core Media Audio', 'vendor_id': '[0][0][0][0]'}}], 'input_number': 0}], 'duration': 4.82, 'bitrate': 11490, 'start': 0.0, 'default_video_input_number': 0, 'default_video_stream_number': 0, 'video_codec_name': 'hevc', 'video_profile': '(Main)', 'video_size': [1666, 936], 'video_bitrate': 11291, 'video_fps': 30.07, 'default_audio_input_number': 0, 'default_audio_stream_number': 1, 'audio_fps': 44100, 'audio_bitrate': 187, 'video_duration': 4.82, 'video_n_frames': 144}\n",
      "/Users/dreaminds/Desktop/POCs/VideoAnalyser/.venv/lib/python3.12/site-packages/imageio_ffmpeg/binaries/ffmpeg-macos-aarch64-v7.1 -i ../sample_data/Thailand/IMG_8349.MOV -loglevel error -f image2pipe -vf scale=1666:936 -sws_flags bicubic -pix_fmt rgb24 -vcodec rawvideo -\n",
      "{'video_found': True, 'audio_found': True, 'metadata': {'major_brand': 'qt', 'minor_version': '0', 'compatible_brands': 'qt', 'creation_time': '2024-04-29T21:12:25.000000Z', 'com.apple.quicktime.location.accuracy.horizontal': '4.726555', 'com.apple.quicktime.cinematic-video': '', 'com.apple.quicktime.location.ISO6709': '+07.8825+098.2931+014.290/', 'com.apple.quicktime.make': 'Apple', 'com.apple.quicktime.model': 'iPhone 13', 'com.apple.quicktime.software': '17.3', 'com.apple.quicktime.creationdate': '2024-02-11T20:37:33+0700'}, 'inputs': [{'streams': [{'input_number': 0, 'stream_number': 0, 'stream_type': 'video', 'language': None, 'default': True, 'size': [1920, 1080], 'bitrate': 12605, 'fps': 30.0, 'codec_name': 'hevc', 'profile': '(Main)', 'metadata': {'Metadata': '', 'creation_time': '2024-04-29T21:12:25.000000Z', 'handler_name': 'Core Media Video', 'vendor_id': '[0][0][0][0]', 'encoder': 'HEVC', 'Side data': '', 'displaymatrix': 'rotation of -90.00 degrees'}}, {'input_number': 0, 'stream_number': 1, 'stream_type': 'audio', 'language': None, 'default': True, 'fps': 44100, 'bitrate': 187, 'metadata': {'Metadata': '', 'creation_time': '2024-04-29T21:12:25.000000Z', 'handler_name': 'Core Media Audio', 'vendor_id': '[0][0][0][0]'}}], 'input_number': 0}], 'duration': 1.23, 'bitrate': 12827, 'start': 0.0, 'default_video_input_number': 0, 'default_video_stream_number': 0, 'video_codec_name': 'hevc', 'video_profile': '(Main)', 'video_size': [1920, 1080], 'video_bitrate': 12605, 'video_fps': 30.0, 'default_audio_input_number': 0, 'default_audio_stream_number': 1, 'audio_fps': 44100, 'audio_bitrate': 187, 'video_duration': 1.23, 'video_n_frames': 36}\n",
      "/Users/dreaminds/Desktop/POCs/VideoAnalyser/.venv/lib/python3.12/site-packages/imageio_ffmpeg/binaries/ffmpeg-macos-aarch64-v7.1 -i ../sample_data/Thailand/IMG_8333.MOV -loglevel error -f image2pipe -vf scale=1920:1080 -sws_flags bicubic -pix_fmt rgb24 -vcodec rawvideo -\n",
      "{'video_found': True, 'audio_found': True, 'metadata': {'major_brand': 'qt', 'minor_version': '0', 'compatible_brands': 'qt', 'creation_time': '2024-02-14T22:10:18.000000Z', 'com.apple.quicktime.location.accuracy.horizontal': '4.701000', 'com.apple.quicktime.cinematic-video': '', 'com.apple.quicktime.location.ISO6709': '+13.7405+100.5095+026.218/', 'com.apple.quicktime.make': 'Apple', 'com.apple.quicktime.model': 'iPhone 13', 'com.apple.quicktime.software': '17.3', 'com.apple.quicktime.creationdate': '2024-02-13T21:24:11+0700'}, 'inputs': [{'streams': [{'input_number': 0, 'stream_number': 0, 'stream_type': 'video', 'language': None, 'default': True, 'size': [1920, 1080], 'bitrate': 11583, 'fps': 30.01, 'codec_name': 'hevc', 'profile': '(Main)', 'metadata': {'Metadata': '', 'creation_time': '2024-02-14T22:10:18.000000Z', 'handler_name': 'Core Media Video', 'vendor_id': '[0][0][0][0]', 'encoder': 'HEVC', 'Side data': '', 'displaymatrix': 'rotation of -90.00 degrees'}}, {'input_number': 0, 'stream_number': 1, 'stream_type': 'audio', 'language': None, 'default': True, 'fps': 44100, 'bitrate': 183, 'metadata': {'Metadata': '', 'creation_time': '2024-02-14T22:10:18.000000Z', 'handler_name': 'Core Media Audio', 'vendor_id': '[0][0][0][0]'}}], 'input_number': 0}], 'duration': 9.87, 'bitrate': 11774, 'start': 0.0, 'default_video_input_number': 0, 'default_video_stream_number': 0, 'video_codec_name': 'hevc', 'video_profile': '(Main)', 'video_size': [1920, 1080], 'video_bitrate': 11583, 'video_fps': 30.01, 'default_audio_input_number': 0, 'default_audio_stream_number': 1, 'audio_fps': 44100, 'audio_bitrate': 183, 'video_duration': 9.87, 'video_n_frames': 296}\n",
      "/Users/dreaminds/Desktop/POCs/VideoAnalyser/.venv/lib/python3.12/site-packages/imageio_ffmpeg/binaries/ffmpeg-macos-aarch64-v7.1 -i ../sample_data/Thailand/IMG_8565.MOV -loglevel error -f image2pipe -vf scale=1920:1080 -sws_flags bicubic -pix_fmt rgb24 -vcodec rawvideo -\n",
      "MoviePy - Building video thailand_trip.mp4.\n",
      "MoviePy - Writing audio in thailand_tripTEMP_MPY_wvf_snd.mp4\n"
     ]
    },
    {
     "name": "stderr",
     "output_type": "stream",
     "text": [
      "                                                                      \r"
     ]
    },
    {
     "name": "stdout",
     "output_type": "stream",
     "text": [
      "MoviePy - Done.\n",
      "MoviePy - Writing video thailand_trip.mp4\n",
      "\n"
     ]
    },
    {
     "name": "stderr",
     "output_type": "stream",
     "text": [
      "frame_index:   7%|▋         | 135/2034 [00:05<01:10, 26.99it/s, now=None]/Users/dreaminds/Desktop/POCs/VideoAnalyser/.venv/lib/python3.12/site-packages/moviepy/video/io/ffmpeg_reader.py:178: UserWarning: In file ../sample_data/Thailand/IMG_8414.MOV, 6220800 bytes wanted but 0 bytes read at frame index 134 (out of a total 134 frames), at time 4.47/4.47 sec. Using the last valid frame instead.\n",
      "  warnings.warn(\n",
      "                                                                          \r"
     ]
    },
    {
     "name": "stdout",
     "output_type": "stream",
     "text": [
      "MoviePy - Done !\n",
      "MoviePy - video ready thailand_trip.mp4\n"
     ]
    }
   ],
   "source": [
    "create_video(video_clips=sequence)"
   ]
  },
  {
   "cell_type": "code",
   "execution_count": 191,
   "id": "af5777d9",
   "metadata": {},
   "outputs": [],
   "source": [
    "import librosa\n",
    "from datetime import timedelta\n",
    "\n",
    "def get_beat_timestamps(audio_path, duration=None):\n",
    "    y, sr = librosa.load(audio_path)\n",
    "    onset_env = librosa.onset.onset_strength(y=y, sr=sr)\n",
    "    onset_frames = librosa.onset.onset_detect(onset_envelope=onset_env, sr=sr, units='frames', backtrack=True, hop_length=256)\n",
    "    beat_times = librosa.frames_to_time(onset_frames, sr=sr)\n",
    "    beat_timestamps = [timedelta(seconds=float(t)) for t in beat_times]\n",
    "    return beat_timestamps"
   ]
  },
  {
   "cell_type": "code",
   "execution_count": 196,
   "id": "31b5630d",
   "metadata": {},
   "outputs": [
    {
     "data": {
      "text/plain": [
       "55"
      ]
     },
     "execution_count": 196,
     "metadata": {},
     "output_type": "execute_result"
    }
   ],
   "source": [
    "beats = get_beat_timestamps(\"./music/1.mp3\")\n",
    "len(beats)"
   ]
  },
  {
   "cell_type": "code",
   "execution_count": null,
   "id": "1d7d8af0",
   "metadata": {},
   "outputs": [],
   "source": []
  }
 ],
 "metadata": {
  "kernelspec": {
   "display_name": ".venv",
   "language": "python",
   "name": "python3"
  },
  "language_info": {
   "codemirror_mode": {
    "name": "ipython",
    "version": 3
   },
   "file_extension": ".py",
   "mimetype": "text/x-python",
   "name": "python",
   "nbconvert_exporter": "python",
   "pygments_lexer": "ipython3",
   "version": "3.12.8"
  }
 },
 "nbformat": 4,
 "nbformat_minor": 5
}
