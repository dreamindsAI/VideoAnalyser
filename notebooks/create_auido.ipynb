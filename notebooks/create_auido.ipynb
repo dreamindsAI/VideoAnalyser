{
 "cells": [
  {
   "cell_type": "code",
   "execution_count": null,
   "id": "013d4018",
   "metadata": {},
   "outputs": [],
   "source": []
  },
  {
   "cell_type": "code",
   "execution_count": 1,
   "id": "66a898f9",
   "metadata": {},
   "outputs": [
    {
     "data": {
      "text/plain": [
       "<_io.BufferedRandom name='2.mp3'>"
      ]
     },
     "execution_count": 1,
     "metadata": {},
     "output_type": "execute_result"
    }
   ],
   "source": [
    "from pydub import AudioSegment\n",
    "from pydub.generators import Sine\n",
    "import simpleaudio as sa\n",
    "\n",
    "# Create a short click sound (1 kHz sine burst)\n",
    "click = Sine(1000).to_audio_segment(duration=50).apply_gain(-3)\n",
    "\n",
    "# Initialize 30s of silence\n",
    "duration = 30000  # 30 seconds in ms\n",
    "track = AudioSegment.silent(duration=duration)\n",
    "\n",
    "# Overlay click every 5 seconds\n",
    "for t in range(0, duration, 5000):\n",
    "    track = track.overlay(click, position=t)\n",
    "\n",
    "# Export as MP3 (requires ffmpeg)\n",
    "track.export(\"2.mp3\", format=\"mp3\")\n"
   ]
  },
  {
   "cell_type": "code",
   "execution_count": null,
   "id": "b67147c5",
   "metadata": {},
   "outputs": [],
   "source": []
  }
 ],
 "metadata": {
  "kernelspec": {
   "display_name": ".venv",
   "language": "python",
   "name": "python3"
  },
  "language_info": {
   "codemirror_mode": {
    "name": "ipython",
    "version": 3
   },
   "file_extension": ".py",
   "mimetype": "text/x-python",
   "name": "python",
   "nbconvert_exporter": "python",
   "pygments_lexer": "ipython3",
   "version": "3.12.8"
  }
 },
 "nbformat": 4,
 "nbformat_minor": 5
}
