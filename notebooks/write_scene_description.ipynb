{
 "cells": [
  {
   "cell_type": "code",
   "execution_count": null,
   "metadata": {},
   "outputs": [],
   "source": []
  },
  {
   "cell_type": "code",
   "execution_count": 43,
   "metadata": {},
   "outputs": [
    {
     "data": {
      "text/plain": [
       "'The image depicts a blue tram traveling down a street in Zurich, Switzerland. \\n\\n* The tram is blue and white with a glass front and a flat roof, featuring a sign that reads \"Frankental\" at the front. \\n* It is positioned on the left side of the image, facing forward, and is situated on a road with two lanes. \\n* The pavement is divided into two sections by a dotted line, with a large, light gray section on the right and a dark gray section on the left. \\n* The street is lined with buildings on both sides, predominantly dark-colored with multiple windows. \\n* Above the tram, there is a large orange construction crane extending from the right side of the image to the left. \\n* The background shows an overcast sky, with a gradient of light blue at the top. \\n* At the very top of the image, there is a black wire with a single light bulb hanging from it, flanked by two small lights. \\n* The overall atmosphere suggests a daytime setting with an overcast sky.'"
      ]
     },
     "execution_count": 43,
     "metadata": {},
     "output_type": "execute_result"
    }
   ],
   "source": [
    "from groq import Groq\n",
    "import base64\n",
    "\n",
    "\n",
    "# Function to encode the image\n",
    "def encode_image(image_path):\n",
    "  with open(image_path, \"rb\") as image_file:\n",
    "    return base64.b64encode(image_file.read()).decode('utf-8')\n",
    "\n",
    "# Path to your image\n",
    "image_path = \"./save_dir/Switz/IMG_0280/frames/frame_0001.png\"\n",
    "\n",
    "# Getting the base64 string\n",
    "base64_image = encode_image(image_path)\n",
    "\n",
    "client = Groq()\n",
    "\n",
    "metadata= {\n",
    "    \"duration\": 4,\n",
    "    \"created\": \"2024-09-19T08:03:09Z\",\n",
    "    \"location\": \"21, Limmatstrasse, Gewerbeschule, Industriequartier, Zurich, District Zurich, Zurich, 8005, Switzerland\",\n",
    "    \"framerate\": 30.0\n",
    "}\n",
    "\n",
    "def get_system_prompt(location:str)->str:\n",
    "  return f\"\"\"\n",
    "You are a helpful AI assistant, who is an expert in describing the image. \n",
    "Carefully describe the given image. \n",
    "Additionally, incorporate the location information ({location}) to provide relevant contextual details.\n",
    "\"\"\"\n",
    "\n",
    "def get_image_description(sysem_prompt: str, base64_image: bytes) -> str:\n",
    "    chat_completion = client.chat.completions.create(\n",
    "        messages=[\n",
    "            {\n",
    "                \"role\": \"user\",\n",
    "                \"content\": [\n",
    "                    # {\"type\": \"text\", \"text\": f\"Describe the given image. This image is taken at {metadata['location']}. Use the location information also in the description\"},\n",
    "                    {\"type\": \"text\", \"text\": sysem_prompt},\n",
    "                    {\n",
    "                        \"type\": \"image_url\",\n",
    "                        \"image_url\": {\n",
    "                            \"url\": f\"data:image/jpeg;base64,{base64_image}\",\n",
    "                        },\n",
    "                    },\n",
    "                ],\n",
    "            }\n",
    "        ],\n",
    "        model=\"llama-3.2-11b-vision-preview\",\n",
    "    )\n",
    "\n",
    "    return chat_completion.choices[0].message.content\n",
    "\n",
    "system_prompt = get_system_prompt(location=metadata[\"location\"])\n",
    "get_image_description(system_prompt, base64_image)"
   ]
  },
  {
   "cell_type": "code",
   "execution_count": null,
   "metadata": {},
   "outputs": [
    {
     "name": "stdout",
     "output_type": "stream",
     "text": [
      "frame_0001\n",
      "Frame description written to save_dir/Switz/IMG_0280/descriptions/frame_0001.txt\n",
      "frame_0003\n",
      "Frame description written to save_dir/Switz/IMG_0280/descriptions/frame_0003.txt\n",
      "frame_0002\n",
      "Frame description written to save_dir/Switz/IMG_0280/descriptions/frame_0002.txt\n",
      "frame_0006\n",
      "Frame description written to save_dir/Switz/IMG_0280/descriptions/frame_0006.txt\n",
      "frame_0005\n",
      "Frame description written to save_dir/Switz/IMG_0280/descriptions/frame_0005.txt\n",
      "frame_0004\n",
      "Frame description written to save_dir/Switz/IMG_0280/descriptions/frame_0004.txt\n"
     ]
    }
   ],
   "source": [
    "from pathlib import Path\n",
    "import json\n",
    "\n",
    "file_directory = Path(\"./save_dir/Switz/IMG_0280\")\n",
    "frames_directory = file_directory / \"frames\"\n",
    "frame_description_save_directory = file_directory / \"descriptions\"\n",
    "frame_description_save_directory.mkdir(exist_ok=True)\n",
    "\n",
    "with open(file_directory / \"metadata.json\", \"r\") as f:\n",
    "    metadata = json.load(f)\n",
    "\n",
    "for image_path in frames_directory.iterdir():\n",
    "    base64_image = encode_image(image_path)\n",
    "    location = metadata['location']\n",
    "    system_prompt = get_system_prompt(location)\n",
    "    frame_description = get_image_description(system_prompt, base64_image)\n",
    "    frame_description_file_path = frame_description_save_directory / f\"{image_path.stem}.txt\"\n",
    "    with open(frame_description_file_path, \"w\") as f:\n",
    "        f.write(frame_description)\n",
    "    print(f\"Frame description written to {frame_description_file_path}\")\n"
   ]
  },
  {
   "cell_type": "code",
   "execution_count": null,
   "metadata": {},
   "outputs": [],
   "source": []
  }
 ],
 "metadata": {
  "kernelspec": {
   "display_name": ".venv",
   "language": "python",
   "name": "python3"
  },
  "language_info": {
   "codemirror_mode": {
    "name": "ipython",
    "version": 3
   },
   "file_extension": ".py",
   "mimetype": "text/x-python",
   "name": "python",
   "nbconvert_exporter": "python",
   "pygments_lexer": "ipython3",
   "version": "3.12.8"
  }
 },
 "nbformat": 4,
 "nbformat_minor": 2
}
