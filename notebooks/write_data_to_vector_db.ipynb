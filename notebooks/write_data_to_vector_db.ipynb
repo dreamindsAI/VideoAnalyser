{
 "cells": [
  {
   "cell_type": "code",
   "execution_count": 29,
   "metadata": {},
   "outputs": [],
   "source": [
    "import chromadb\n",
    "from pathlib import Path\n",
    "from pydantic import BaseModel  \n",
    "from datetime import datetime\n",
    "import json\n",
    "from tqdm.notebook import tqdm\n",
    "from sentence_transformers import SentenceTransformer\n",
    "import os\n",
    "\n",
    "class VideoDescriptionMetadata(BaseModel):\n",
    "    id: str\n",
    "    file_name: str\n",
    "    folder_name: str\n",
    "    video_description: str\n",
    "    location: str\n",
    "    created: str\n",
    "    duration: int\n",
    "\n",
    "EMBEDDING_MODEL = SentenceTransformer(\"all-MiniLM-L6-v2\")\n",
    "\n",
    "def create_embedding(text:str, embedding_model=EMBEDDING_MODEL):\n",
    "    return embedding_model.encode(text).tolist()\n",
    "\n",
    "\n",
    "# Initialize ChromaDB client (Persistent storage can be enabled by specifying a path)\n",
    "chroma_db_path = Path( \"./chromadb\")\n",
    "chroma_db_path.mkdir(exist_ok=True)\n",
    "chroma_client = chromadb.PersistentClient(path=str(chroma_db_path))  # Use chromadb.EphemeralClient() for in-memory\n",
    "os.chmod(str(chroma_db_path), 0o777)\n",
    "\n",
    "# Create (or get existing) collection\n",
    "collection = chroma_client.get_or_create_collection(name=\"video_description\")\n",
    "\n",
    "def write_video_description_to_vector_db(collection, embedding: list, metadata: VideoDescriptionMetadata):\n",
    "    collection.add(\n",
    "        ids=[metadata.id],\n",
    "        documents=[metadata.video_description],\n",
    "        embeddings=[embedding],\n",
    "        metadatas=[metadata.model_dump()] \n",
    "    )\n",
    "    print(\"Data successfully added to ChromaDB!\")\n",
    "    return None\n",
    "\n",
    "def id_exists_in_vector_db(collection, id: str) -> bool:\n",
    "    result = collection.get(ids=[id])  # Retrieve by ID\n",
    "    return bool(result['ids'])  # Check if any ID is returned\n",
    "\n",
    "def add_directory_to_vector_db(collection, directory_path: Path):\n",
    "\n",
    "    total_folders = sum(1 for item in directory_path.iterdir() if item.is_dir())\n",
    "\n",
    "    for folder_path in tqdm(directory_path.iterdir(), total=total_folders):\n",
    "\n",
    "        file_name = folder_path.name\n",
    "        folder_name = folder_path.parent.name\n",
    "\n",
    "        with open(folder_path / \"video_description.txt\", \"r\") as f:\n",
    "            video_description = f.read()\n",
    "\n",
    "        with open(folder_path / \"metadata.json\", \"r\", encoding=\"utf-8\") as file:\n",
    "            metadata = json.load(file)\n",
    "\n",
    "        location = metadata[\"location\"]\n",
    "        created = str(metadata[\"created\"])\n",
    "        duration = metadata[\"duration\"]\n",
    "        id = f\"{folder_name}_{file_name}\"\n",
    "\n",
    "        if id_exists_in_vector_db(collection=collection, id=id):\n",
    "            print(f\"{id} already present in vector db. Skipping the writing process.\")\n",
    "            continue\n",
    "\n",
    "        video_description_metadata = VideoDescriptionMetadata(\n",
    "            id=id,\n",
    "            file_name = file_name,\n",
    "            folder_name = folder_name,\n",
    "            video_description = video_description,\n",
    "            location = location,\n",
    "            created = created,\n",
    "            duration = duration\n",
    "        )\n",
    "        embedding = create_embedding(text=video_description)\n",
    "\n",
    "        write_video_description_to_vector_db(collection=collection, embedding=embedding, metadata=video_description_metadata)\n",
    "    \n",
    "    print(f\"{directory_path.name} added to vector db\")\n",
    "    "
   ]
  },
  {
   "cell_type": "code",
   "execution_count": 30,
   "metadata": {},
   "outputs": [
    {
     "data": {
      "application/vnd.jupyter.widget-view+json": {
       "model_id": "92f72c4195154b7fac75e117f239fcf4",
       "version_major": 2,
       "version_minor": 0
      },
      "text/plain": [
       "  0%|          | 0/1 [00:00<?, ?it/s]"
      ]
     },
     "metadata": {},
     "output_type": "display_data"
    },
    {
     "name": "stdout",
     "output_type": "stream",
     "text": [
      "Data successfully added to ChromaDB!\n",
      "Switz added to vector db\n"
     ]
    }
   ],
   "source": [
    "directory_path = Path(\"./save_dir/Switz\")\n",
    "add_directory_to_vector_db(collection=collection, directory_path=directory_path)"
   ]
  }
 ],
 "metadata": {
  "kernelspec": {
   "display_name": ".venv",
   "language": "python",
   "name": "python3"
  },
  "language_info": {
   "codemirror_mode": {
    "name": "ipython",
    "version": 3
   },
   "file_extension": ".py",
   "mimetype": "text/x-python",
   "name": "python",
   "nbconvert_exporter": "python",
   "pygments_lexer": "ipython3",
   "version": "3.12.8"
  }
 },
 "nbformat": 4,
 "nbformat_minor": 2
}
