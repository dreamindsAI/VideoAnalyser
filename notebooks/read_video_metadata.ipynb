{
 "cells": [
  {
   "cell_type": "code",
   "execution_count": 1,
   "metadata": {},
   "outputs": [],
   "source": [
    "# Directory containing the sample videos\n",
    "DATA_DIRECTORY = \"../sample_data\""
   ]
  },
  {
   "cell_type": "code",
   "execution_count": 2,
   "metadata": {},
   "outputs": [],
   "source": [
    "from pathlib import Path\n",
    "from enum import Enum\n",
    "\n",
    "class FileExtension(Enum):\n",
    "    MOV = \".mov\"\n",
    "    MP4 = \".mp4\"\n",
    "\n",
    "class DataDirectory:\n",
    "\n",
    "    def __init__(self, data_directory: str):\n",
    "        self.data_directory = Path(data_directory)\n",
    "\n",
    "    def get_video_folders(self) -> list[Path]:\n",
    "        self.video_folders = [folder for folder in self.data_directory.iterdir() if folder.is_dir()]\n",
    "        return self.video_folders\n",
    "    \n",
    "    def get_all_video_files(self, folder_name: str, file_extension: FileExtension = FileExtension.MOV) -> list[Path]:\n",
    "        folder_path = self.data_directory / folder_name\n",
    "        return [file for file in folder_path.iterdir() if file.is_file() and file.suffix == file_extension.value or file_extension.value.upper()]\n",
    "    \n",
    "    def get_video_file(self, folder_name: str, index: int=0, file_extension: FileExtension = FileExtension.MOV) -> Path:\n",
    "        video_files = self.get_all_video_files(folder_name, file_extension)\n",
    "        return video_files[index]\n"
   ]
  },
  {
   "cell_type": "code",
   "execution_count": 3,
   "metadata": {},
   "outputs": [
    {
     "data": {
      "text/plain": [
       "PosixPath('../sample_data/Phiphi/IMG_8146.MOV')"
      ]
     },
     "execution_count": 3,
     "metadata": {},
     "output_type": "execute_result"
    }
   ],
   "source": [
    "file_slno = 0\n",
    "folder_slno = 0\n",
    "\n",
    "data_directory = DataDirectory(DATA_DIRECTORY)\n",
    "folder_name = data_directory.get_video_folders()[folder_slno].name\n",
    "video_file_path = data_directory.get_all_video_files(folder_name=folder_name)[file_slno]\n",
    "video_file_path\n"
   ]
  },
  {
   "cell_type": "code",
   "execution_count": 4,
   "metadata": {},
   "outputs": [],
   "source": [
    "import ffmpeg\n",
    "from geopy.geocoders import Nominatim\n",
    "from pydantic import BaseModel\n",
    "from typing import Annotated\n",
    "from datetime import datetime\n",
    "\n",
    "class VideoMetaData(BaseModel):\n",
    "    duration: Annotated[int, \"time in seconds\"]\n",
    "    created: Annotated[datetime, \"created date\"]\n",
    "    modified: Annotated[datetime, \"modified date\"]\n",
    "    location: Annotated[str, \"location details\"]\n",
    "    framerate: Annotated[int, \"frame rate\"]\n",
    "\n",
    "\n",
    "class VideoFile:\n",
    "\n",
    "    def __init__(self, filepath:Path) -> None:\n",
    "        self.filepath = str(filepath)\n",
    "    \n",
    "    def get_metadata(self):\n",
    "        probe = ffmpeg.probe(self.filepath)\n",
    "        \n",
    "        metadata = {}\n",
    "        \n",
    "        # Get video stream information\n",
    "        video_info = next((stream for stream in probe['streams'] \n",
    "                          if stream['codec_type'] == 'video'), None)\n",
    "        if video_info:\n",
    "            metadata.update({\n",
    "                'width': video_info.get('width'),\n",
    "                'height': video_info.get('height'),\n",
    "                'duration': video_info.get('duration'),\n",
    "                'avg_frame_rate': video_info.get('avg_frame_rate'),\n",
    "            })\n",
    "            \n",
    "        # Get format information\n",
    "        format_info = probe.get('format', {})\n",
    "        # Get metadata tags if they exist\n",
    "        tags = format_info.get('tags', {})\n",
    "        if tags:\n",
    "            metadata['tags'] = tags\n",
    "            \n",
    "            # GPS data is often stored in tags\n",
    "            gps_data = {k: v for k, v in tags.items() \n",
    "                       if k.lower().startswith(('gps', 'location', 'geo'))}\n",
    "            if gps_data:\n",
    "                metadata['gps_data'] = gps_data\n",
    "        return metadata\n",
    "    \n",
    "    @property\n",
    "    def parse_location_iso6709(location_iso: str):\n",
    "        location_iso = location_iso.strip('/')\n",
    "        lat = float(location_iso[0:8])\n",
    "        lon = float(location_iso[8:17])\n",
    "        alt = float(location_iso[17:])\n",
    "        return {\"latitude\": lat, \"longitude\": lon, \"altitude_m\": alt}\n",
    "    \n",
    "    @property\n",
    "    def get_place_name(latitude: float, longitude: float) -> str:\n",
    "        geolocator = Nominatim(user_agent=\"geoapi\")\n",
    "        location = geolocator.reverse((latitude, longitude), exactly_one=True)\n",
    "        return location.address if location else \"Unknown Location\"\n",
    "\n",
    "\n"
   ]
  },
  {
   "cell_type": "code",
   "execution_count": 5,
   "metadata": {},
   "outputs": [
    {
     "data": {
      "text/plain": [
       "{'width': 1920,\n",
       " 'height': 1080,\n",
       " 'duration': '5.000000',\n",
       " 'avg_frame_rate': '30/1',\n",
       " 'tags': {'major_brand': 'qt  ',\n",
       "  'minor_version': '0',\n",
       "  'compatible_brands': 'qt  ',\n",
       "  'creation_time': '2024-05-04T12:22:25.000000Z',\n",
       "  'com.apple.quicktime.location.accuracy.horizontal': '3.535534',\n",
       "  'com.apple.quicktime.cinematic-video': '',\n",
       "  'com.apple.quicktime.location.ISO6709': '+07.8849+098.4135+006.341/',\n",
       "  'com.apple.quicktime.make': 'Apple',\n",
       "  'com.apple.quicktime.model': 'iPhone 13',\n",
       "  'com.apple.quicktime.software': '17.3',\n",
       "  'com.apple.quicktime.creationdate': '2024-02-11T10:04:22+0700'}}"
      ]
     },
     "execution_count": 5,
     "metadata": {},
     "output_type": "execute_result"
    }
   ],
   "source": [
    "video_file = VideoFile(filepath=video_file_path)\n",
    "video_file.get_metadata()"
   ]
  },
  {
   "cell_type": "code",
   "execution_count": null,
   "metadata": {},
   "outputs": [],
   "source": []
  }
 ],
 "metadata": {
  "kernelspec": {
   "display_name": ".venv",
   "language": "python",
   "name": "python3"
  },
  "language_info": {
   "codemirror_mode": {
    "name": "ipython",
    "version": 3
   },
   "file_extension": ".py",
   "mimetype": "text/x-python",
   "name": "python",
   "nbconvert_exporter": "python",
   "pygments_lexer": "ipython3",
   "version": "3.12.8"
  }
 },
 "nbformat": 4,
 "nbformat_minor": 2
}
