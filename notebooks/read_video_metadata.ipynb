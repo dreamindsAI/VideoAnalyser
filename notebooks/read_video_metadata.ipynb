{
 "cells": [
  {
   "cell_type": "code",
   "execution_count": 1,
   "metadata": {},
   "outputs": [],
   "source": [
    "# Directory containing the sample videos\n",
    "DATA_DIRECTORY = \"../sample_data\""
   ]
  },
  {
   "cell_type": "code",
   "execution_count": 2,
   "metadata": {},
   "outputs": [],
   "source": [
    "from pathlib import Path\n",
    "from enum import Enum\n",
    "\n",
    "class FileExtension(Enum):\n",
    "    MOV = \".mov\"\n",
    "    MP4 = \".mp4\"\n",
    "\n",
    "class DataDirectory:\n",
    "\n",
    "    def __init__(self, data_directory: str):\n",
    "        self.data_directory = Path(data_directory)\n",
    "\n",
    "    def get_video_folders(self) -> list[Path]:\n",
    "        self.video_folders = [folder for folder in self.data_directory.iterdir() if folder.is_dir()]\n",
    "        return self.video_folders\n",
    "    \n",
    "    def get_all_video_files(self, folder_name: str, file_extension: FileExtension = FileExtension.MOV) -> list[Path]:\n",
    "        folder_path = self.data_directory / folder_name\n",
    "        return [file for file in folder_path.iterdir() if file.is_file() and file.suffix == file_extension.value or file_extension.value.upper()]\n",
    "    \n",
    "    def get_video_file(self, folder_name: str, index: int=0, file_extension: FileExtension = FileExtension.MOV) -> Path:\n",
    "        video_files = self.get_all_video_files(folder_name, file_extension)\n",
    "        return video_files[index]\n"
   ]
  },
  {
   "cell_type": "code",
   "execution_count": 3,
   "metadata": {},
   "outputs": [
    {
     "data": {
      "text/plain": [
       "PosixPath('../sample_data/Switz/IMG_0280.MOV')"
      ]
     },
     "execution_count": 3,
     "metadata": {},
     "output_type": "execute_result"
    }
   ],
   "source": [
    "file_slno = 0\n",
    "folder_slno = 1\n",
    "\n",
    "data_directory = DataDirectory(DATA_DIRECTORY)\n",
    "folder_name = data_directory.get_video_folders()[folder_slno].name\n",
    "video_file_path = data_directory.get_all_video_files(folder_name=folder_name)[file_slno]\n",
    "video_file_path\n"
   ]
  },
  {
   "cell_type": "code",
   "execution_count": 4,
   "metadata": {},
   "outputs": [],
   "source": [
    "import ffmpeg\n",
    "from geopy.geocoders import Nominatim\n",
    "from pydantic import BaseModel\n",
    "from typing import Annotated, Optional\n",
    "from datetime import datetime\n",
    "from pathlib import Path\n",
    "\n",
    "class VideoMetaData(BaseModel):\n",
    "    duration: Annotated[Optional[int], \"time in seconds\"] = None\n",
    "    created: Annotated[Optional[datetime], \"created date\"] = None\n",
    "    modified: Annotated[Optional[datetime], \"modified date\"] = None\n",
    "    location: Annotated[Optional[str], \"location details\"] = None\n",
    "    framerate: Annotated[Optional[float], \"frame rate\"] = None\n",
    "\n",
    "\n",
    "class VideoFile:\n",
    "\n",
    "    def __init__(self, filepath: Path) -> None:\n",
    "        self.filepath = str(filepath)\n",
    "\n",
    "    def get_metadata(self) -> VideoMetaData:\n",
    "        probe = ffmpeg.probe(self.filepath)\n",
    "        \n",
    "        # Initialize metadata fields\n",
    "        duration = None\n",
    "        created = None\n",
    "        modified = None\n",
    "        location = None\n",
    "        framerate = None\n",
    "\n",
    "        # Get video stream information\n",
    "        video_info = next((stream for stream in probe['streams'] if stream['codec_type'] == 'video'), None)\n",
    "        if video_info:\n",
    "            duration = int(float(video_info.get('duration', 0)))\n",
    "            avg_frame_rate = video_info.get('avg_frame_rate', '0/1')\n",
    "            if '/' in avg_frame_rate:\n",
    "                num, denom = map(float, avg_frame_rate.split('/'))\n",
    "                framerate = num / denom if denom != 0 else None\n",
    "\n",
    "        # Get format info\n",
    "        format_info = probe.get('format', {})\n",
    "        tags = format_info.get('tags', {})\n",
    "        if tags:\n",
    "            # created / modified\n",
    "            created = self.parse_datetime(tags.get('creation_time'))\n",
    "            modified = self.parse_datetime(tags.get('modification_time'))\n",
    "\n",
    "            # location\n",
    "            iso_location = tags.get('com.apple.quicktime.location.ISO6709')\n",
    "            if iso_location:\n",
    "                loc_data = self.parse_location_iso6709(iso_location)\n",
    "                location = self.get_place_name(loc_data['latitude'], loc_data['longitude'])\n",
    "        \n",
    "        return VideoMetaData(\n",
    "            duration=duration,\n",
    "            created=created,\n",
    "            modified=modified,\n",
    "            location=location,\n",
    "            framerate=framerate\n",
    "        )\n",
    "\n",
    "    def parse_datetime(self, dt: Optional[str]) -> Optional[datetime]:\n",
    "        if not dt:\n",
    "            return None\n",
    "        try:\n",
    "            return datetime.fromisoformat(dt.replace('Z', '+00:00'))\n",
    "        except Exception:\n",
    "            return None\n",
    "\n",
    "    def parse_location_iso6709(self, location_iso: str) -> dict:\n",
    "        location_iso = location_iso.strip('/')\n",
    "        lat = float(location_iso[0:8])\n",
    "        lon = float(location_iso[8:17])\n",
    "        alt = float(location_iso[17:])\n",
    "        return {\"latitude\": lat, \"longitude\": lon, \"altitude_m\": alt}\n",
    "\n",
    "    def get_place_name(self, latitude: float, longitude: float) -> str:\n",
    "        geolocator = Nominatim(user_agent=\"geoapi\", timeout=10)\n",
    "        location = geolocator.reverse((latitude, longitude), exactly_one=True, language=\"en\")\n",
    "        return location.address if location else \"Unknown Location\"\n"
   ]
  },
  {
   "cell_type": "code",
   "execution_count": 5,
   "metadata": {},
   "outputs": [
    {
     "data": {
      "text/plain": [
       "VideoMetaData(duration=4, created=datetime.datetime(2024, 9, 19, 8, 3, 9, tzinfo=datetime.timezone.utc), modified=None, location='21, Limmatstrasse, Gewerbeschule, Industriequartier, Zurich, District Zurich, Zurich, 8005, Switzerland', framerate=30.0)"
      ]
     },
     "execution_count": 5,
     "metadata": {},
     "output_type": "execute_result"
    }
   ],
   "source": [
    "video_file = VideoFile(filepath=video_file_path)\n",
    "video_file.get_metadata()"
   ]
  }
 ],
 "metadata": {
  "kernelspec": {
   "display_name": ".venv",
   "language": "python",
   "name": "python3"
  },
  "language_info": {
   "codemirror_mode": {
    "name": "ipython",
    "version": 3
   },
   "file_extension": ".py",
   "mimetype": "text/x-python",
   "name": "python",
   "nbconvert_exporter": "python",
   "pygments_lexer": "ipython3",
   "version": "3.12.8"
  }
 },
 "nbformat": 4,
 "nbformat_minor": 2
}
