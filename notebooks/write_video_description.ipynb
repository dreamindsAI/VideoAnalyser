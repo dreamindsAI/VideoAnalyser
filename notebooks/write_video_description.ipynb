{
 "cells": [
  {
   "cell_type": "code",
   "execution_count": null,
   "metadata": {},
   "outputs": [],
   "source": []
  },
  {
   "cell_type": "code",
   "execution_count": 9,
   "metadata": {},
   "outputs": [
    {
     "data": {
      "text/plain": [
       "AgentRunResult(data=VideoDescription(description='The video begins with a serene scene of a white and blue tramcar on a quiet street in Zurich, Switzerland, with a crane visible in the background, setting the tone for a tranquil urban landscape. As the video progresses, the tram is shown traveling to the right, displaying destinations such as Frankenviad and Frankenstein, with buildings, cars, and a red crane in the background, conveying a sense of daytime activity. The scene then shifts to a blue and white street car traversing a city street with tram tracks, showcasing two large buildings and a tree on the right side, emphasizing urban life and transportation. The video continues with a busy urban street, featuring a concrete building, a row of apartment buildings, and a red and white barrier, highlighting street maintenance and construction activity. The next frame depicts a wide dual-lane street with a tramline, flanked by a building and a row of trees, with two trolleys and a crane, suggesting dynamic energy and movement. The final scene shows a wide, straight street with tram tracks, lined with buildings, a large building under construction, and trees, with a crane visible in the background, all under an overcast and gray sky. Throughout the video, the location is consistently depicted as the Limmatstrasse address in Zurich, Switzerland, showcasing the everyday life and urban landscape of the city.'))"
      ]
     },
     "execution_count": 9,
     "metadata": {},
     "output_type": "execute_result"
    }
   ],
   "source": [
    "from pydantic_ai import Agent\n",
    "from pathlib import Path\n",
    "from pydantic import BaseModel\n",
    "\n",
    "class VideoDescription(BaseModel):\n",
    "    description: str\n",
    "\n",
    "model_name = \"groq:llama-3.3-70b-versatile\"\n",
    "\n",
    "\n",
    "\n",
    "system_prompt = \"\"\"You are an AI assistant specializing in generating coherent and engaging video descriptions using frame-by-frame image descriptions.\n",
    "Your task is to analyze a sequence of frame descriptions and craft a structured, natural-sounding video description that flows smoothly. \n",
    "Ensure the description captures key elements such as objects, actions, emotions, transitions, and location details while maintaining logical continuity between frames.\"\"\"\n",
    "agent = Agent(model_name, system_prompt=system_prompt, result_type=VideoDescription)\n",
    "\n",
    "frame_description_directory = Path(\"./save_dir/Switz/IMG_0280/descriptions\")\n",
    "\n",
    "user_prompt = \"\"\n",
    "for frame_description_filepath in frame_description_directory.iterdir():\n",
    "    frame_number = frame_description_filepath.stem[-2:]\n",
    "    with open(frame_description_filepath, \"r\") as f:\n",
    "        frame_description = f.read()\n",
    "    user_prompt += f\"Frame {frame_number} : \\n{frame_description}\\n\\n\"\n",
    "\n",
    "video_description = await agent.run(user_prompt)\n",
    "video_description"
   ]
  },
  {
   "cell_type": "code",
   "execution_count": 12,
   "metadata": {},
   "outputs": [],
   "source": [
    "video_description_save_filepath = frame_description_directory.parent / \"video_description.txt\"\n",
    "\n",
    "with open(video_description_save_filepath, \"w\") as f:   \n",
    "    f.write(video_description.data.description)"
   ]
  },
  {
   "cell_type": "code",
   "execution_count": null,
   "metadata": {},
   "outputs": [],
   "source": []
  }
 ],
 "metadata": {
  "kernelspec": {
   "display_name": ".venv",
   "language": "python",
   "name": "python3"
  },
  "language_info": {
   "codemirror_mode": {
    "name": "ipython",
    "version": 3
   },
   "file_extension": ".py",
   "mimetype": "text/x-python",
   "name": "python",
   "nbconvert_exporter": "python",
   "pygments_lexer": "ipython3",
   "version": "3.12.8"
  }
 },
 "nbformat": 4,
 "nbformat_minor": 2
}
