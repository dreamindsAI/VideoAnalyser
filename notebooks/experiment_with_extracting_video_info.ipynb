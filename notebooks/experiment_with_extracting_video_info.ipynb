{
 "cells": [
  {
   "cell_type": "code",
   "execution_count": null,
   "id": "4787a66f",
   "metadata": {},
   "outputs": [],
   "source": []
  },
  {
   "cell_type": "code",
   "execution_count": 1,
   "id": "8d1e000a",
   "metadata": {},
   "outputs": [],
   "source": [
    "from PIL import Image\n",
    "from pathlib import Path\n",
    "\n",
    "def stitch_images_vertically(image_paths:list[Path], output_path: str):\n",
    "    images = [Image.open(path) for path in image_paths]\n",
    "    \n",
    "    # Get the max width and total height\n",
    "    max_width = max(img.width for img in images)\n",
    "    total_height = sum(img.height for img in images)\n",
    "    \n",
    "    # Create a new blank image with appropriate size\n",
    "    stitched_image = Image.new('RGB', (max_width, total_height))\n",
    "    \n",
    "    # Paste each image one below another\n",
    "    y_offset = 0\n",
    "    for img in images:\n",
    "        stitched_image.paste(img, (0, y_offset))\n",
    "        y_offset += img.height\n",
    "    \n",
    "    # Save the final image\n",
    "    stitched_image.save(output_path)\n"
   ]
  },
  {
   "cell_type": "code",
   "execution_count": 4,
   "id": "130e0f87",
   "metadata": {},
   "outputs": [
    {
     "data": {
      "text/plain": [
       "PosixPath('save_dir/Thailand/IMG_8287/stiched.png')"
      ]
     },
     "execution_count": 4,
     "metadata": {},
     "output_type": "execute_result"
    }
   ],
   "source": [
    "parent_dir = Path(\"./save_dir/Thailand\")\n",
    "image_paths = [video_folder / \"stiched.png\" for video_folder in parent_dir.iterdir()]\n",
    "image_paths[0]"
   ]
  },
  {
   "cell_type": "code",
   "execution_count": 5,
   "id": "318452b3",
   "metadata": {},
   "outputs": [],
   "source": [
    "stitch_images_vertically(image_paths, \"thailand.png\")"
   ]
  },
  {
   "cell_type": "code",
   "execution_count": null,
   "id": "e27877eb",
   "metadata": {},
   "outputs": [],
   "source": []
  }
 ],
 "metadata": {
  "kernelspec": {
   "display_name": ".venv",
   "language": "python",
   "name": "python3"
  },
  "language_info": {
   "codemirror_mode": {
    "name": "ipython",
    "version": 3
   },
   "file_extension": ".py",
   "mimetype": "text/x-python",
   "name": "python",
   "nbconvert_exporter": "python",
   "pygments_lexer": "ipython3",
   "version": "3.12.8"
  }
 },
 "nbformat": 4,
 "nbformat_minor": 5
}
