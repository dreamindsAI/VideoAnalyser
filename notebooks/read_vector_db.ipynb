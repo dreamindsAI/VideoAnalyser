{
 "cells": [
  {
   "cell_type": "code",
   "execution_count": null,
   "metadata": {},
   "outputs": [],
   "source": []
  },
  {
   "cell_type": "code",
   "execution_count": 6,
   "metadata": {},
   "outputs": [],
   "source": [
    "import chromadb\n",
    "from sentence_transformers import SentenceTransformer\n",
    "from typing import List, Dict, Any, Optional\n",
    "\n",
    "# Load embedding model\n",
    "EMBEDDING_MODEL = SentenceTransformer(\"all-MiniLM-L6-v2\")\n",
    "\n",
    "# Initialize ChromaDB\n",
    "chroma_client = chromadb.PersistentClient(path=\"./chromadb\")\n",
    "collection = chroma_client.get_or_create_collection(name=\"video_description\")\n",
    "\n",
    "\n",
    "def hybrid_search(\n",
    "    collection,\n",
    "    query: str,\n",
    "    n_results: int = 5,\n",
    "    filters: Optional[Dict[str, Any]] = None,\n",
    "    embedding_model=EMBEDDING_MODEL\n",
    ") -> Dict[str, Any]:\n",
    "    \"\"\"\n",
    "    Performs a hybrid search on ChromaDB using vector similarity and metadata filters.\n",
    "\n",
    "    Args:\n",
    "        collection: The ChromaDB collection.\n",
    "        query (str): The search query.\n",
    "        n_results (int): Number of results to retrieve.\n",
    "        filters (Optional[Dict[str, Any]]): Metadata filters for keyword-based search.\n",
    "\n",
    "    Returns:\n",
    "        Dict[str, Any]: Search results from ChromaDB.\n",
    "    \"\"\"\n",
    "    query_vector = embedding_model.encode(query).tolist()\n",
    "    \n",
    "    # Perform query with optional filtering\n",
    "    results = collection.query(\n",
    "        query_embeddings=[query_vector], \n",
    "        n_results=n_results,  \n",
    "        where=filters if filters else None  # Apply filters if provided\n",
    "    )\n",
    "\n",
    "    return results\n",
    "\n",
    "\n",
    "\n"
   ]
  },
  {
   "cell_type": "code",
   "execution_count": 9,
   "metadata": {},
   "outputs": [
    {
     "name": "stdout",
     "output_type": "stream",
     "text": [
      "Search Results: {'ids': [['Switz_IMG_0280']], 'embeddings': None, 'documents': [[None]], 'uris': None, 'data': None, 'metadatas': [[{'created': '2024-09-19T08:03:09Z', 'duration': 4, 'file_name': 'IMG_0280', 'folder_name': 'Switz', 'id': 'Switz_IMG_0280', 'location': '21, Limmatstrasse, Gewerbeschule, Industriequartier, Zurich, District Zurich, Zurich, 8005, Switzerland', 'video_description': 'The video begins with a serene scene of a white and blue tramcar on a quiet street in Zurich, Switzerland, with a crane visible in the background, setting the tone for a tranquil urban landscape. As the video progresses, the tram is shown traveling to the right, displaying destinations such as Frankenviad and Frankenstein, with buildings, cars, and a red crane in the background, conveying a sense of daytime activity. The scene then shifts to a blue and white street car traversing a city street with tram tracks, showcasing two large buildings and a tree on the right side, emphasizing urban life and transportation. The video continues with a busy urban street, featuring a concrete building, a row of apartment buildings, and a red and white barrier, highlighting street maintenance and construction activity. The next frame depicts a wide dual-lane street with a tramline, flanked by a building and a row of trees, with two trolleys and a crane, suggesting dynamic energy and movement. The final scene shows a wide, straight street with tram tracks, lined with buildings, a large building under construction, and trees, with a crane visible in the background, all under an overcast and gray sky. Throughout the video, the location is consistently depicted as the Limmatstrasse address in Zurich, Switzerland, showcasing the everyday life and urban landscape of the city.'}]], 'distances': [[1.3353688191310151]], 'included': [<IncludeEnum.distances: 'distances'>, <IncludeEnum.documents: 'documents'>, <IncludeEnum.metadatas: 'metadatas'>]}\n"
     ]
    }
   ],
   "source": [
    "# Example Usage:\n",
    "search_query = \"Zurich, Switzerland,\"\n",
    "# filter_criteria = {\"category\": \"documentary\", \"tags\": {\"$contains\": \"ocean\"}}\n",
    "filter_criteria = {}\n",
    "\n",
    "search_results = hybrid_search(collection, search_query, n_results=1, filters=filter_criteria)\n",
    "\n",
    "print(\"Search Results:\", search_results)"
   ]
  },
  {
   "cell_type": "code",
   "execution_count": 7,
   "metadata": {},
   "outputs": [
    {
     "name": "stdout",
     "output_type": "stream",
     "text": [
      "1\n"
     ]
    }
   ],
   "source": [
    "print(collection.count())  # Should return the number of stored embeddings\n"
   ]
  },
  {
   "cell_type": "code",
   "execution_count": 10,
   "metadata": {},
   "outputs": [
    {
     "name": "stdout",
     "output_type": "stream",
     "text": [
      "{'ids': ['Switz_IMG_0280'], 'embeddings': None, 'documents': [None], 'uris': None, 'data': None, 'metadatas': [{'created': '2024-09-19T08:03:09Z', 'duration': 4, 'file_name': 'IMG_0280', 'folder_name': 'Switz', 'id': 'Switz_IMG_0280', 'location': '21, Limmatstrasse, Gewerbeschule, Industriequartier, Zurich, District Zurich, Zurich, 8005, Switzerland', 'video_description': 'The video begins with a serene scene of a white and blue tramcar on a quiet street in Zurich, Switzerland, with a crane visible in the background, setting the tone for a tranquil urban landscape. As the video progresses, the tram is shown traveling to the right, displaying destinations such as Frankenviad and Frankenstein, with buildings, cars, and a red crane in the background, conveying a sense of daytime activity. The scene then shifts to a blue and white street car traversing a city street with tram tracks, showcasing two large buildings and a tree on the right side, emphasizing urban life and transportation. The video continues with a busy urban street, featuring a concrete building, a row of apartment buildings, and a red and white barrier, highlighting street maintenance and construction activity. The next frame depicts a wide dual-lane street with a tramline, flanked by a building and a row of trees, with two trolleys and a crane, suggesting dynamic energy and movement. The final scene shows a wide, straight street with tram tracks, lined with buildings, a large building under construction, and trees, with a crane visible in the background, all under an overcast and gray sky. Throughout the video, the location is consistently depicted as the Limmatstrasse address in Zurich, Switzerland, showcasing the everyday life and urban landscape of the city.'}], 'included': [<IncludeEnum.documents: 'documents'>, <IncludeEnum.metadatas: 'metadatas'>]}\n"
     ]
    }
   ],
   "source": [
    "sample = collection.get(limit=1)  # Fetch first stored item\n",
    "print(sample)\n"
   ]
  },
  {
   "cell_type": "code",
   "execution_count": null,
   "metadata": {},
   "outputs": [],
   "source": []
  }
 ],
 "metadata": {
  "kernelspec": {
   "display_name": ".venv",
   "language": "python",
   "name": "python3"
  },
  "language_info": {
   "codemirror_mode": {
    "name": "ipython",
    "version": 3
   },
   "file_extension": ".py",
   "mimetype": "text/x-python",
   "name": "python",
   "nbconvert_exporter": "python",
   "pygments_lexer": "ipython3",
   "version": "3.12.8"
  }
 },
 "nbformat": 4,
 "nbformat_minor": 2
}
